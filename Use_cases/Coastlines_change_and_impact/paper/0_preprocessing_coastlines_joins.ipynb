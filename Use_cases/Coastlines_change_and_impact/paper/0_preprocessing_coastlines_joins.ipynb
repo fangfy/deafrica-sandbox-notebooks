{
 "cells": [
  {
   "cell_type": "markdown",
   "id": "05f5a4a3-a58e-4bb6-831a-68d6dfda8066",
   "metadata": {},
   "source": [
    "# Match coastlines to GADM boundaries and geomorphology\n",
    "\n",
    "* **Products used:** [DE Africa Coastlines]()\n",
    "\n"
   ]
  },
  {
   "cell_type": "markdown",
   "id": "bf9e040e-35bd-4797-8e78-37a994f56c94",
   "metadata": {},
   "source": [
    "### Load packages\n",
    "Import Python packages that are used for the analysis."
   ]
  },
  {
   "cell_type": "code",
   "execution_count": 1,
   "id": "73c45b2f-f00a-4ff6-b237-8c19a1e32ba7",
   "metadata": {},
   "outputs": [],
   "source": [
    "import geopandas as gpd\n",
    "import numpy as np\n",
    "from shapely import box\n",
    "import os"
   ]
  },
  {
   "cell_type": "code",
   "execution_count": 2,
   "id": "84dcb457",
   "metadata": {},
   "outputs": [
    {
     "name": "stdout",
     "output_type": "stream",
     "text": [
      "total 14737448\n",
      "-rw-rw-rw-@ 1 Fangyuan  staff   171M May 13  2022 CoastalGeomorphology.zip\n",
      "-rw-rw-r--  1 Fangyuan  staff   344K Jul 19  2022 gadm41_NGA_1.json\n",
      "-rwx------@ 1 Fangyuan  staff   369M Mar 27  2023 \u001b[31mgadm_africa.gpkg\u001b[m\u001b[m\n",
      "-rw-r--r--@ 1 Fangyuan  staff   109K Apr  8 10:38 gadm41_NGA_1.json.zip\n",
      "-rw-r--r--@ 1 Fangyuan  staff    34M Apr  8 16:10 coastlineschange_v0.4.0_gadm_level0.gpkg\n",
      "-rw-r--r--  1 Fangyuan  staff    71K Apr  8 16:15 visual.qgz\n",
      "-rw-r--r--@ 1 Fangyuan  staff    35M Apr  8 16:15 CoastalGeomorphology_africa.gpkg\n",
      "-rw-r--r--@ 1 Fangyuan  staff   955M Apr  8 16:15 CoastalGeomorphology_buffered.gpkg\n",
      "-rwx------@ 1 Fangyuan  staff   1.8G Apr  8 16:15 \u001b[31mdeafricacoastlines_v0.4.0.gpkg\u001b[m\u001b[m\n",
      "-rw-r--r--@ 1 Fangyuan  staff    36M Apr  8 16:42 coastlineschange_v0.4.0_gadm_level1.gpkg\n",
      "-rw-r--r--@ 1 Fangyuan  staff   807M Apr  9 09:16 deafricacoastlines_v0.4.0_geomorph_gadm.gpkg\n",
      "-rw-r--r--@ 1 Fangyuan  staff   2.0G Apr  9 09:27 deafricacoastlines_v0.4.2.gpkg\n",
      "-rw-r--r--@ 1 Fangyuan  staff   853M Apr  9 13:41 deafricacoastlines_v0.4.2_geomorph_gadm.gpkg\n",
      "-rw-r--r--@ 1 Fangyuan  staff    34M Apr  9 15:18 coastlineschange_v0.4.2_gadm_level0.gpkg\n",
      "-rw-r--r--@ 1 Fangyuan  staff    36M Apr  9 15:50 coastlineschange_v0.4.2_gadm_level1.gpkg\n"
     ]
    }
   ],
   "source": [
    "!ls -lrth ../data/"
   ]
  },
  {
   "cell_type": "markdown",
   "id": "1d9bff94",
   "metadata": {},
   "source": [
    "## Load Coastline"
   ]
  },
  {
   "cell_type": "code",
   "execution_count": 3,
   "id": "e3880ebc",
   "metadata": {},
   "outputs": [],
   "source": [
    "# coastlines version, v0.4.0(-2022) or v0.4.2 (-2023)\n",
    "version = 'v0.4.2'"
   ]
  },
  {
   "cell_type": "code",
   "execution_count": 4,
   "id": "018b8092-40ce-4c23-90e7-51144e9617c0",
   "metadata": {},
   "outputs": [
    {
     "name": "stdout",
     "output_type": "stream",
     "text": [
      "CPU times: user 21.1 s, sys: 953 ms, total: 22.1 s\n",
      "Wall time: 22.8 s\n"
     ]
    }
   ],
   "source": [
    "%%time\n",
    "\n",
    "# load coastlines rate of change and filter to keep only good observations\n",
    "\n",
    "coastlines = gpd.read_file(f\"../data/deafricacoastlines_{version}.gpkg\", layer=\"rates_of_change\")\n",
    "coastlines = coastlines[(coastlines.certainty=='good')]\n",
    "coastlines.reset_index(inplace=True)"
   ]
  },
  {
   "cell_type": "code",
   "execution_count": 6,
   "id": "5606669d",
   "metadata": {},
   "outputs": [
    {
     "name": "stdout",
     "output_type": "stream",
     "text": [
      "negative change (km) 10461.6\n",
      "positive change (km) 13695.81\n"
     ]
    }
   ],
   "source": [
    "sig_change = coastlines[coastlines.sig_time<0.01]\n",
    "print(\"negative change (km)\", len(sig_change[sig_change.rate_time<0])*30./1000)\n",
    "print(\"positive change (km)\", len(sig_change[sig_change.rate_time>0])*30./1000)"
   ]
  },
  {
   "cell_type": "code",
   "execution_count": 5,
   "id": "8670b207",
   "metadata": {},
   "outputs": [],
   "source": [
    "# Step 1: Get the bounding box (minx, miny, maxx, maxy)\n",
    "bounding_box = coastlines.total_bounds  # returns [minx, miny, maxx, maxy]\n",
    "\n",
    "# Create a box geometry from the bounding box\n",
    "bbox_geom = box(*bounding_box)\n",
    "\n",
    "# Buffer the bounding box by 1000 units (depending on CRS units)\n",
    "buffered_bbox = bbox_geom.buffer(10000)"
   ]
  },
  {
   "cell_type": "markdown",
   "id": "3b61968c",
   "metadata": {},
   "source": [
    "## Match to Geomorphology"
   ]
  },
  {
   "cell_type": "code",
   "execution_count": 6,
   "id": "0b8696b6-a4db-4c8c-a82c-a8fba8f47cbb",
   "metadata": {},
   "outputs": [],
   "source": [
    "geomorph_file = '../data/CoastalGeomorphology_africa.gpkg'\n",
    "if os.path.exists(geomorph_file):\n",
    "    geomorphology = gpd.read_file(geomorph_file)\n",
    "else:\n",
    "    geomorphology = gpd.read_file(\"../data/CoastalGeomorphology.zip\")\n",
    "    geomorphology = geomorphology.to_crs(coastlines.crs)\n",
    "\n",
    "    # Filter another GeoDataFrame (let's say 'other_gdf') using the buffered bounding box\n",
    "    geomorphology = geomorphology[geomorphology.geometry.intersects(buffered_bbox)]\n",
    "\n",
    "    geomorphology.to_file(geomorph_file, driver=\"GPKG\")"
   ]
  },
  {
   "cell_type": "code",
   "execution_count": 7,
   "id": "9369d644-91a0-4e74-aa7d-0765dbb351dd",
   "metadata": {},
   "outputs": [],
   "source": [
    "#geomorphology_buffered = geomorphology.buffer(100, cap_style=2)\n",
    "#geomorphology_buffered.to_file('CoastalGeomorphology_buffered.gpkg', driver=\"GPKG\")"
   ]
  },
  {
   "cell_type": "code",
   "execution_count": 8,
   "id": "24ce27b7-f1d5-4beb-8e74-2908d05baac1",
   "metadata": {},
   "outputs": [],
   "source": [
    "coastlines_geomorph = coastlines.sjoin_nearest(geomorphology, how='left', max_distance=200, lsuffix='left', rsuffix='right', distance_col=\"geomorph_dist\")\n",
    "coastlines_geomorph = coastlines_geomorph.drop(columns=[\"index_right\"])"
   ]
  },
  {
   "cell_type": "code",
   "execution_count": 9,
   "id": "a9bfde18-5dfd-4c3d-a3d8-9e09c5e9d120",
   "metadata": {},
   "outputs": [
    {
     "data": {
      "text/plain": [
       "np.float64(0.18163991579261463)"
      ]
     },
     "execution_count": 9,
     "metadata": {},
     "output_type": "execute_result"
    }
   ],
   "source": [
    "(coastlines_geomorph['Preds'] == \"Wetland\").mean()"
   ]
  },
  {
   "cell_type": "code",
   "execution_count": 10,
   "id": "943a289b-8636-40b2-b357-bacb7d5fca9c",
   "metadata": {},
   "outputs": [
    {
     "data": {
      "text/plain": [
       "np.float64(0.3655396962785733)"
      ]
     },
     "execution_count": 10,
     "metadata": {},
     "output_type": "execute_result"
    }
   ],
   "source": [
    "(coastlines_geomorph['Preds'] == \"Beach\").mean()"
   ]
  },
  {
   "cell_type": "code",
   "execution_count": 11,
   "id": "1ea126a0-5487-43bf-a83d-f4d242804afc",
   "metadata": {},
   "outputs": [
    {
     "data": {
      "text/plain": [
       "np.float64(0.09498617204152447)"
      ]
     },
     "execution_count": 11,
     "metadata": {},
     "output_type": "execute_result"
    }
   ],
   "source": [
    "(coastlines_geomorph['Preds'] == \"Bedrock\").mean()"
   ]
  },
  {
   "cell_type": "code",
   "execution_count": 12,
   "id": "2a02f0fe-04a4-4a39-b835-042c8e8cb7b1",
   "metadata": {},
   "outputs": [
    {
     "data": {
      "text/plain": [
       "np.float64(0.6421657841127124)"
      ]
     },
     "execution_count": 12,
     "metadata": {},
     "output_type": "execute_result"
    }
   ],
   "source": [
    "(coastlines_geomorph['Preds'] == \"Wetland\").mean()+(coastlines_geomorph['Preds'] == \"Beach\").mean()+(coastlines_geomorph['Preds'] == \"Bedrock\").mean()"
   ]
  },
  {
   "cell_type": "markdown",
   "id": "459161fe-efa3-4831-8451-30f374dcde52",
   "metadata": {
    "tags": []
   },
   "source": [
    "## Match coastlines to admin boundaries"
   ]
  },
  {
   "cell_type": "code",
   "execution_count": 13,
   "id": "101298d3-08a4-468f-9cce-81f83bf14620",
   "metadata": {},
   "outputs": [
    {
     "name": "stdout",
     "output_type": "stream",
     "text": [
      "CPU times: user 1min 6s, sys: 962 ms, total: 1min 7s\n",
      "Wall time: 1min 8s\n"
     ]
    }
   ],
   "source": [
    "%%time\n",
    "\n",
    "# load level 1 admin_boundaries\n",
    "\n",
    "gadm_africa  = gpd.read_file(\"../data/gadm_africa.gpkg\")\n",
    "level = 1 \n",
    "gadm_level_1 = gadm_africa.dissolve(by=f\"GID_{level}\")\n",
    "gadm_level_1 = gadm_level_1.to_crs(coastlines.crs)\n",
    "gadm_level_1.reset_index(inplace=True)\n",
    "\n",
    "level = 0\n",
    "gadm_level_0 = gadm_africa.dissolve(by=f\"GID_{level}\")\n",
    "gadm_level_0 = gadm_level_0.to_crs(coastlines.crs)\n",
    "gadm_level_0.reset_index(inplace=True)\n"
   ]
  },
  {
   "cell_type": "code",
   "execution_count": 14,
   "id": "38817cfc-193f-4141-96a9-011990eb299b",
   "metadata": {},
   "outputs": [
    {
     "name": "stdout",
     "output_type": "stream",
     "text": [
      "CPU times: user 31min 25s, sys: 6.3 s, total: 31min 32s\n",
      "Wall time: 31min 43s\n"
     ]
    }
   ],
   "source": [
    "%%time\n",
    "#coastlines_geomorph = coastlines_geomorph.sjoin_nearest(gadm_level_0, how='left', max_distance=1000, lsuffix='left', rsuffix='right', distance_col=None)\n",
    "coastlines_geomorph = coastlines_geomorph.sjoin_nearest(gadm_level_1[[\"GID_0\", \"NAME_0\", \"GID_1\", \"NAME_1\",\"geometry\"]], how='left', max_distance=1000, lsuffix='left', rsuffix='right', distance_col=\"GID_1_dist\")\n",
    "coastlines_geomorph = coastlines_geomorph.drop(columns=[\"index_right\"])"
   ]
  },
  {
   "cell_type": "code",
   "execution_count": 15,
   "id": "0e08a01d",
   "metadata": {},
   "outputs": [
    {
     "data": {
      "text/html": [
       "<div>\n",
       "<style scoped>\n",
       "    .dataframe tbody tr th:only-of-type {\n",
       "        vertical-align: middle;\n",
       "    }\n",
       "\n",
       "    .dataframe tbody tr th {\n",
       "        vertical-align: top;\n",
       "    }\n",
       "\n",
       "    .dataframe thead th {\n",
       "        text-align: right;\n",
       "    }\n",
       "</style>\n",
       "<table border=\"1\" class=\"dataframe\">\n",
       "  <thead>\n",
       "    <tr style=\"text-align: right;\">\n",
       "      <th></th>\n",
       "      <th>index</th>\n",
       "      <th>uid</th>\n",
       "      <th>rate_time</th>\n",
       "      <th>sig_time</th>\n",
       "      <th>se_time</th>\n",
       "      <th>outl_time</th>\n",
       "      <th>dist_2000</th>\n",
       "      <th>dist_2001</th>\n",
       "      <th>dist_2002</th>\n",
       "      <th>dist_2003</th>\n",
       "      <th>...</th>\n",
       "      <th>Source</th>\n",
       "      <th>Obs</th>\n",
       "      <th>Preds</th>\n",
       "      <th>Probs</th>\n",
       "      <th>geomorph_dist</th>\n",
       "      <th>GID_0</th>\n",
       "      <th>NAME_0</th>\n",
       "      <th>GID_1</th>\n",
       "      <th>NAME_1</th>\n",
       "      <th>GID_1_dist</th>\n",
       "    </tr>\n",
       "  </thead>\n",
       "  <tbody>\n",
       "    <tr>\n",
       "      <th>0</th>\n",
       "      <td>0</td>\n",
       "      <td>sv0eefepeh</td>\n",
       "      <td>-0.03</td>\n",
       "      <td>0.611</td>\n",
       "      <td>0.05</td>\n",
       "      <td>None</td>\n",
       "      <td>3.64</td>\n",
       "      <td>2.26</td>\n",
       "      <td>0.57</td>\n",
       "      <td>0.86</td>\n",
       "      <td>...</td>\n",
       "      <td>NaN</td>\n",
       "      <td>NaN</td>\n",
       "      <td>NaN</td>\n",
       "      <td>NaN</td>\n",
       "      <td>NaN</td>\n",
       "      <td>EGY</td>\n",
       "      <td>Egypt</td>\n",
       "      <td>EGY.22_1</td>\n",
       "      <td>Janub Sina'</td>\n",
       "      <td>0.0</td>\n",
       "    </tr>\n",
       "    <tr>\n",
       "      <th>1</th>\n",
       "      <td>1</td>\n",
       "      <td>sv0eefg1n9</td>\n",
       "      <td>0.00</td>\n",
       "      <td>0.964</td>\n",
       "      <td>0.05</td>\n",
       "      <td>None</td>\n",
       "      <td>3.06</td>\n",
       "      <td>1.73</td>\n",
       "      <td>0.99</td>\n",
       "      <td>0.66</td>\n",
       "      <td>...</td>\n",
       "      <td>NaN</td>\n",
       "      <td>NaN</td>\n",
       "      <td>NaN</td>\n",
       "      <td>NaN</td>\n",
       "      <td>NaN</td>\n",
       "      <td>EGY</td>\n",
       "      <td>Egypt</td>\n",
       "      <td>EGY.22_1</td>\n",
       "      <td>Janub Sina'</td>\n",
       "      <td>0.0</td>\n",
       "    </tr>\n",
       "    <tr>\n",
       "      <th>2</th>\n",
       "      <td>2</td>\n",
       "      <td>sv0eefg66h</td>\n",
       "      <td>0.04</td>\n",
       "      <td>0.304</td>\n",
       "      <td>0.04</td>\n",
       "      <td>None</td>\n",
       "      <td>2.16</td>\n",
       "      <td>1.12</td>\n",
       "      <td>0.01</td>\n",
       "      <td>-0.37</td>\n",
       "      <td>...</td>\n",
       "      <td>NaN</td>\n",
       "      <td>NaN</td>\n",
       "      <td>NaN</td>\n",
       "      <td>NaN</td>\n",
       "      <td>NaN</td>\n",
       "      <td>EGY</td>\n",
       "      <td>Egypt</td>\n",
       "      <td>EGY.22_1</td>\n",
       "      <td>Janub Sina'</td>\n",
       "      <td>0.0</td>\n",
       "    </tr>\n",
       "    <tr>\n",
       "      <th>3</th>\n",
       "      <td>3</td>\n",
       "      <td>sv0eefg7v8</td>\n",
       "      <td>-0.05</td>\n",
       "      <td>0.357</td>\n",
       "      <td>0.05</td>\n",
       "      <td>None</td>\n",
       "      <td>5.65</td>\n",
       "      <td>2.87</td>\n",
       "      <td>2.28</td>\n",
       "      <td>1.40</td>\n",
       "      <td>...</td>\n",
       "      <td>NaN</td>\n",
       "      <td>NaN</td>\n",
       "      <td>NaN</td>\n",
       "      <td>NaN</td>\n",
       "      <td>NaN</td>\n",
       "      <td>EGY</td>\n",
       "      <td>Egypt</td>\n",
       "      <td>EGY.22_1</td>\n",
       "      <td>Janub Sina'</td>\n",
       "      <td>0.0</td>\n",
       "    </tr>\n",
       "    <tr>\n",
       "      <th>4</th>\n",
       "      <td>4</td>\n",
       "      <td>sv0eefgt19</td>\n",
       "      <td>-0.02</td>\n",
       "      <td>0.621</td>\n",
       "      <td>0.04</td>\n",
       "      <td>None</td>\n",
       "      <td>3.50</td>\n",
       "      <td>1.55</td>\n",
       "      <td>1.85</td>\n",
       "      <td>0.99</td>\n",
       "      <td>...</td>\n",
       "      <td>NaN</td>\n",
       "      <td>NaN</td>\n",
       "      <td>NaN</td>\n",
       "      <td>NaN</td>\n",
       "      <td>NaN</td>\n",
       "      <td>EGY</td>\n",
       "      <td>Egypt</td>\n",
       "      <td>EGY.22_1</td>\n",
       "      <td>Janub Sina'</td>\n",
       "      <td>0.0</td>\n",
       "    </tr>\n",
       "  </tbody>\n",
       "</table>\n",
       "<p>5 rows × 53 columns</p>\n",
       "</div>"
      ],
      "text/plain": [
       "   index         uid  rate_time  sig_time  se_time outl_time  dist_2000  \\\n",
       "0      0  sv0eefepeh      -0.03     0.611     0.05      None       3.64   \n",
       "1      1  sv0eefg1n9       0.00     0.964     0.05      None       3.06   \n",
       "2      2  sv0eefg66h       0.04     0.304     0.04      None       2.16   \n",
       "3      3  sv0eefg7v8      -0.05     0.357     0.05      None       5.65   \n",
       "4      4  sv0eefgt19      -0.02     0.621     0.04      None       3.50   \n",
       "\n",
       "   dist_2001  dist_2002  dist_2003  ...  Source  Obs  Preds  Probs  \\\n",
       "0       2.26       0.57       0.86  ...     NaN  NaN    NaN    NaN   \n",
       "1       1.73       0.99       0.66  ...     NaN  NaN    NaN    NaN   \n",
       "2       1.12       0.01      -0.37  ...     NaN  NaN    NaN    NaN   \n",
       "3       2.87       2.28       1.40  ...     NaN  NaN    NaN    NaN   \n",
       "4       1.55       1.85       0.99  ...     NaN  NaN    NaN    NaN   \n",
       "\n",
       "   geomorph_dist  GID_0  NAME_0     GID_1       NAME_1  GID_1_dist  \n",
       "0            NaN    EGY   Egypt  EGY.22_1  Janub Sina'         0.0  \n",
       "1            NaN    EGY   Egypt  EGY.22_1  Janub Sina'         0.0  \n",
       "2            NaN    EGY   Egypt  EGY.22_1  Janub Sina'         0.0  \n",
       "3            NaN    EGY   Egypt  EGY.22_1  Janub Sina'         0.0  \n",
       "4            NaN    EGY   Egypt  EGY.22_1  Janub Sina'         0.0  \n",
       "\n",
       "[5 rows x 53 columns]"
      ]
     },
     "execution_count": 15,
     "metadata": {},
     "output_type": "execute_result"
    }
   ],
   "source": [
    "coastlines_geomorph.head()"
   ]
  },
  {
   "cell_type": "code",
   "execution_count": 16,
   "id": "677e0164-c561-4474-9928-cc617047f883",
   "metadata": {},
   "outputs": [
    {
     "name": "stdout",
     "output_type": "stream",
     "text": [
      "CPU times: user 27.7 s, sys: 1.39 s, total: 29 s\n",
      "Wall time: 29.9 s\n"
     ]
    }
   ],
   "source": [
    "%%time\n",
    "coastlines_geomorph.to_file(f\"../data/deafricacoastlines_{version}_geomorph_gadm.gpkg\")\n"
   ]
  },
  {
   "cell_type": "markdown",
   "id": "3f0d599b",
   "metadata": {},
   "source": [
    "## Per admin boundary stats"
   ]
  },
  {
   "cell_type": "code",
   "execution_count": 17,
   "id": "daf06e04-8fe5-4643-bd66-ec9f4181cc68",
   "metadata": {},
   "outputs": [],
   "source": [
    "# match coastlines to admin region geometries\n",
    "level = 0\n",
    "gadm_level = gadm_level_0\n",
    "\n",
    "ind_coast, ind_level =  gadm_level.sindex.nearest(coastlines.geometry, max_distance= 1000, return_all=False, return_distance=False)\n",
    "\n",
    "gadm_level[['n_good', 'n_sig99', 'n_neg1', 'n_neg5', 'rate_time_10th', 'rate_time_50th', 'nsm_10th', 'sce_90th']] = [np.nan]*8\n",
    "\n",
    "for idx in gadm_level.index:\n",
    "    #print(gadm_level.loc[idx][f\"NAME_{level}\"])\n",
    "    \n",
    "    good_gdf = coastlines.iloc[ind_coast[ind_level == idx]]\n",
    "    if len(good_gdf)==0:\n",
    "        #print(\"no data over\", gadm_level.loc[idx][f\"NAME_{level}\"])\n",
    "        continue\n",
    "\n",
    "    # get stats\n",
    "    gadm_level.at[idx, 'n_good'] = len(good_gdf)\n",
    "    sig_gdf = good_gdf[(good_gdf.sig_time<0.01)]\n",
    "    gadm_level.at[idx, 'n_sig99'] = len(sig_gdf)\n",
    "    gadm_level.at[idx, 'n_neg1'] = (sig_gdf.rate_time<-1).sum()\n",
    "    gadm_level.at[idx, 'n_neg5'] = (sig_gdf.rate_time<-5).sum()\n",
    "    gadm_level.at[idx, 'rate_time_10th'] = sig_gdf.rate_time.quantile(0.1)\n",
    "    gadm_level.at[idx, 'rate_time_50th'] = sig_gdf.rate_time.quantile(0.5)\n",
    "    gadm_level.at[idx, 'nsm_10th'] = sig_gdf.nsm.quantile(0.1)\n",
    "    gadm_level.at[idx, 'sce_90th'] = sig_gdf.sce.quantile(0.9)\n",
    "    \n",
    "gadm_level['perc_neg1']=gadm_level['n_neg1']*100/gadm_level['n_good']\n",
    "gadm_level['perc_neg5']=gadm_level['n_neg5']*100/gadm_level['n_good']\n",
    "gadm_level['km_neg1']=gadm_level['n_neg1']*30/1000\n",
    "gadm_level['km_neg5']=gadm_level['n_neg5']*30/1000\n",
    "\n",
    "gadm_level = gadm_level[gadm_level.n_good>0]\n",
    "gadm_level.to_file(f\"../data/coastlineschange_{version}_gadm_level{level}.gpkg\")"
   ]
  },
  {
   "cell_type": "code",
   "execution_count": 18,
   "id": "abb7212d-696f-4539-9f23-c081107c126e",
   "metadata": {},
   "outputs": [],
   "source": [
    "# match coastlines to admin region geometries\n",
    "level = 1\n",
    "gadm_level = gadm_level_1\n",
    "\n",
    "ind_coast, ind_level =  gadm_level.sindex.nearest(coastlines.geometry, max_distance= 1000, return_all=False, return_distance=False)\n",
    "\n",
    "gadm_level[['n_good', 'n_sig99', 'n_neg1', 'n_neg5', 'rate_time_10th', 'rate_time_50th', 'nsm_10th', 'sce_90th']] = [np.nan]*8\n",
    "\n",
    "for idx in gadm_level.index:\n",
    "    #print(gadm_level.loc[idx][f\"NAME_{level}\"])\n",
    "    \n",
    "    good_gdf = coastlines.iloc[ind_coast[ind_level == idx]]\n",
    "    if len(good_gdf)==0:\n",
    "        #print(\"no data over\", gadm_level.loc[idx][f\"NAME_{level}\"])\n",
    "        continue\n",
    "\n",
    "    # get stats\n",
    "    gadm_level.at[idx, 'n_good'] = len(good_gdf)\n",
    "    sig_gdf = good_gdf[(good_gdf.sig_time<0.01)]\n",
    "    gadm_level.at[idx, 'n_sig99'] = len(sig_gdf)\n",
    "    gadm_level.at[idx, 'n_neg1'] = (sig_gdf.rate_time<-1).sum()\n",
    "    gadm_level.at[idx, 'n_neg5'] = (sig_gdf.rate_time<-5).sum()\n",
    "    gadm_level.at[idx, 'rate_time_10th'] = sig_gdf.rate_time.quantile(0.1)\n",
    "    gadm_level.at[idx, 'rate_time_50th'] = sig_gdf.rate_time.quantile(0.5)\n",
    "    gadm_level.at[idx, 'nsm_10th'] = sig_gdf.nsm.quantile(0.1)\n",
    "    gadm_level.at[idx, 'sce_90th'] = sig_gdf.sce.quantile(0.9)\n",
    "    \n",
    "gadm_level['perc_neg1']=gadm_level['n_neg1']*100/gadm_level['n_good']\n",
    "gadm_level['perc_neg5']=gadm_level['n_neg5']*100/gadm_level['n_good']\n",
    "gadm_level['km_neg1']=gadm_level['n_neg1']*30/1000\n",
    "gadm_level['km_neg5']=gadm_level['n_neg5']*30/1000\n",
    "\n",
    "gadm_level = gadm_level[gadm_level.n_good>0]\n",
    "gadm_level.to_file(f\"../data/coastlineschange_{version}_gadm_level{level}.gpkg\")"
   ]
  }
 ],
 "metadata": {
  "kernelspec": {
   "display_name": "deafrica",
   "language": "python",
   "name": "python3"
  },
  "language_info": {
   "codemirror_mode": {
    "name": "ipython",
    "version": 3
   },
   "file_extension": ".py",
   "mimetype": "text/x-python",
   "name": "python",
   "nbconvert_exporter": "python",
   "pygments_lexer": "ipython3",
   "version": "3.13.2"
  }
 },
 "nbformat": 4,
 "nbformat_minor": 5
}
