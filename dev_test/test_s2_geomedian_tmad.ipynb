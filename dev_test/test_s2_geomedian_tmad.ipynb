{
 "cells": [
  {
   "cell_type": "markdown",
   "metadata": {},
   "source": [
    "# S2 Geomedian plus TMAD"
   ]
  },
  {
   "cell_type": "code",
   "execution_count": 1,
   "metadata": {},
   "outputs": [],
   "source": [
    "%matplotlib inline\n",
    "\n",
    "import warnings\n",
    "warnings.filterwarnings(\"ignore\")\n",
    "\n",
    "import matplotlib.pyplot as plt\n",
    "import numpy as np\n",
    "import xarray as xr\n",
    "from pyproj import Transformer\n",
    "\n",
    "import datacube\n",
    "\n",
    "import sys\n",
    "sys.path.append('../Scripts')\n",
    "from deafrica_dask import create_local_dask_cluster\n",
    "from s2_geomedian import run_tile\n"
   ]
  },
  {
   "cell_type": "code",
   "execution_count": 2,
   "metadata": {},
   "outputs": [
    {
     "data": {
      "text/html": [
       "<table style=\"border: 2px solid white;\">\n",
       "<tr>\n",
       "<td style=\"vertical-align: top; border: 0px solid white\">\n",
       "<h3 style=\"text-align: left;\">Client</h3>\n",
       "<ul style=\"text-align: left; list-style: none; margin: 0; padding: 0;\">\n",
       "  <li><b>Scheduler: </b>tcp://127.0.0.1:45365</li>\n",
       "  <li><b>Dashboard: </b><a href='/user/fangfy/proxy/8787/status' target='_blank'>/user/fangfy/proxy/8787/status</a></li>\n",
       "</ul>\n",
       "</td>\n",
       "<td style=\"vertical-align: top; border: 0px solid white\">\n",
       "<h3 style=\"text-align: left;\">Cluster</h3>\n",
       "<ul style=\"text-align: left; list-style:none; margin: 0; padding: 0;\">\n",
       "  <li><b>Workers: </b>14</li>\n",
       "  <li><b>Cores: </b>14</li>\n",
       "  <li><b>Memory: </b>104.37 GB</li>\n",
       "</ul>\n",
       "</td>\n",
       "</tr>\n",
       "</table>"
      ],
      "text/plain": [
       "<Client: 'tcp://127.0.0.1:45365' processes=14 threads=14, memory=104.37 GB>"
      ]
     },
     "metadata": {},
     "output_type": "display_data"
    }
   ],
   "source": [
    "create_local_dask_cluster(n_workers=14,threads_per_worker=1)"
   ]
  },
  {
   "cell_type": "markdown",
   "metadata": {},
   "source": [
    "## Generate seasonal geomedian for 2017 and 2019"
   ]
  },
  {
   "cell_type": "code",
   "execution_count": 3,
   "metadata": {},
   "outputs": [],
   "source": [
    "\n",
    "def run_gm_tmad(lat, lon, tilesize, cloud_buffer, maxcloud, annual_only=False, fourmonthly=False, outpath='s2_geomedian_tmad', \n",
    "                bands=['blue','green','red','nir_2','swir_1']):\n",
    "    \n",
    "    # convert to projected centre coordinates\n",
    "    transformer = Transformer.from_crs(\"epsg:4326\", \"epsg:6933\", always_xy=True)\n",
    "    x0, y0 = transformer.transform(lon, lat)\n",
    "\n",
    "    x = (x0-tilesize/2, x0+tilesize/2)\n",
    "    y = (y0-tilesize/2, y0+tilesize/2)\n",
    "\n",
    "    if annual_only:\n",
    "        times = [(\"2019-01-01\", \"2019-12-31\")]\n",
    "    elif fourmonthly:\n",
    "        times = [\n",
    "            (\"2019-01-01\", \"2019-04-30\"),\n",
    "            (\"2019-05-01\", \"2019-08-31\"),\n",
    "            (\"2019-09-01\", \"2019-12-31\"),]\n",
    "    else:\n",
    "        times = [\n",
    "        # quarter\n",
    "        (\"2019-01-01\", \"2019-03-31\"),\n",
    "        (\"2019-04-01\", \"2019-06-30\"),\n",
    "        (\"2019-07-01\", \"2019-09-30\"),\n",
    "        (\"2019-10-01\", \"2019-12-31\"),\n",
    "        # 6 month\n",
    "        #(\"2019-01-01\", \"2019-06-30\"),\n",
    "        #(\"2019-07-01\", \"2019-12-31\"),\n",
    "        # 12 month\n",
    "        (\"2019-01-01\", \"2019-12-31\"),\n",
    "        ]\n",
    "\n",
    "    dask_chunks = {'time': -1, 'x':200, 'y': 200}\n",
    "\n",
    "    filenames = []\n",
    "    for time in times:\n",
    "        if cloud_buffer>0:\n",
    "            filename = \"%s/cloud_cover_0_%d/s2_%s_%s_%d_%d_buffer%d.nc\"%(outpath, maxcloud, time[0], time[1], x0, y0, cloud_buffer)\n",
    "        else:\n",
    "            filename = \"%s/cloud_cover_0_%d/s2_%s_%s_%d_%d.nc\"%(outpath, maxcloud, time[0], time[1], x0, y0)\n",
    "        print(filename)\n",
    "        filenames.append(filename)\n",
    "    \n",
    "        gm = run_tile(x, y, time, filename,\n",
    "                  cloud_labels=[8,9,10], cloud_buffer=cloud_buffer, bad_labels=[0,1,3], \n",
    "                  bands=bands, # only testing a few bands for speed\n",
    "                  redo=False, tmad=True,\n",
    "                  dask_chunks = dask_chunks, cloud_cover=[0, maxcloud],\n",
    "                 )\n"
   ]
  },
  {
   "cell_type": "code",
   "execution_count": null,
   "metadata": {},
   "outputs": [],
   "source": [
    "maxcloud = 100\n",
    "tilesize = 20000\n",
    "cloud_buffer=0\n",
    "\n",
    "latlons = [(-33.7, 19.515),\n",
    "           ]\n",
    "\n",
    "bands=['blue','green','red','nir','swir_1','swir_2']\n",
    "\n",
    "for lat, lon in latlons:\n",
    "    run_gm_tmad(lat, lon, tilesize, cloud_buffer, maxcloud, annual_only=True, bands=bands)\n"
   ]
  },
  {
   "cell_type": "markdown",
   "metadata": {},
   "source": [
    "## Eastern Africa locations"
   ]
  },
  {
   "cell_type": "code",
   "execution_count": 4,
   "metadata": {},
   "outputs": [
    {
     "name": "stdout",
     "output_type": "stream",
     "text": [
      "s2_geomedian_tmad/cloud_cover_0_100/s2_2019-01-01_2019-12-31_3293631_-80296.nc\n",
      "s2_geomedian_tmad/cloud_cover_0_100/s2_2019-01-01_2019-12-31_3617213_1460236.nc\n",
      "s2_geomedian_tmad/cloud_cover_0_100/s2_2019-01-01_2019-12-31_3572353_1552909.nc\n",
      "Using pixel quality parameters for Sentinel 2\n",
      "Finding datasets\n",
      "    s2_l2a\n",
      "Applying pixel quality/cloud mask\n",
      "Re-scaling Sentinel-2 data\n",
      "Returning 73 time steps as a dask array\n",
      "73 images during 2019-01-01 - 2019-12-31\n"
     ]
    }
   ],
   "source": [
    "maxcloud = 100\n",
    "tilesize = 50000 # 50 km\n",
    "cloud_buffer=0\n",
    "\n",
    "latlons = [(-0.629425, 34.135745),\n",
    "            (11.521710, 37.489409),\n",
    "            #(-0.295307, 38.442294),\n",
    "           (12.263660, 37.024471),\n",
    "           ]\n",
    "\n",
    "bands=['blue','green','red','red_edge_1','red_edge_2','red_edge_3','nir_1', 'nir_2','swir_1','swir_2']\n",
    "\n",
    "for lat, lon in latlons:\n",
    "    run_gm_tmad(lat, lon, tilesize, cloud_buffer, maxcloud, annual_only=True, bands=bands)\n"
   ]
  },
  {
   "cell_type": "code",
   "execution_count": null,
   "metadata": {},
   "outputs": [],
   "source": [
    "import xarray as xr\n",
    "import numpy as np\n",
    "\n",
    "fname = \"s2_2019-01-01_2019-12-31_1882929_-4061168.nc\"\n",
    "fname = \"s2_2019-01-01_2019-12-31_3293631_-80296.nc\"\n",
    "#fname= \"s2_2019-01-01_2019-12-31_3617213_1460236.nc\"\n",
    "data = xr.open_dataset(f\"s2_geomedian_tmad/cloud_cover_0_100/{fname}\")\n",
    "data['bcmad'] = -np.log(data.bcmad.where(data.bcmad>0))\n",
    "data['emad'] = -np.log(data.emad.where(data.emad>0))\n",
    "data['smad'] = -np.log(data.smad.where(data.smad>0))\n",
    "\n",
    "data[['emad', 'smad', 'bcmad']].to_array().plot.imshow(robust=True, figsize=(10,10));\n",
    "data[['swir_1', 'nir_1', 'red']].to_array().plot.imshow(robust=True, figsize=(10,10));"
   ]
  }
 ],
 "metadata": {
  "kernelspec": {
   "display_name": "Python 3",
   "language": "python",
   "name": "python3"
  },
  "language_info": {
   "codemirror_mode": {
    "name": "ipython",
    "version": 3
   },
   "file_extension": ".py",
   "mimetype": "text/x-python",
   "name": "python",
   "nbconvert_exporter": "python",
   "pygments_lexer": "ipython3",
   "version": "3.6.9"
  }
 },
 "nbformat": 4,
 "nbformat_minor": 4
}
