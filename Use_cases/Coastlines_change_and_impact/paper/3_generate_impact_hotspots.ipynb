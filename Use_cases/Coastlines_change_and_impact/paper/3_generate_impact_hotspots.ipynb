{
 "cells": [
  {
   "cell_type": "markdown",
   "id": "05f5a4a3-a58e-4bb6-831a-68d6dfda8066",
   "metadata": {},
   "source": [
    "# Identify impact hotspots in African countries\n",
    "\n",
    "* **Products used:** [DE Africa Coastlines]()\n",
    "\n"
   ]
  },
  {
   "cell_type": "markdown",
   "id": "bf9e040e-35bd-4797-8e78-37a994f56c94",
   "metadata": {},
   "source": [
    "### Load packages\n",
    "Import Python packages that are used for the analysis."
   ]
  },
  {
   "cell_type": "code",
   "execution_count": 1,
   "id": "73c45b2f-f00a-4ff6-b237-8c19a1e32ba7",
   "metadata": {},
   "outputs": [
    {
     "name": "stderr",
     "output_type": "stream",
     "text": [
      "/usr/local/lib/python3.8/dist-packages/geopandas/_compat.py:112: UserWarning: The Shapely GEOS version (3.8.0-CAPI-1.13.1 ) is incompatible with the GEOS version PyGEOS was compiled with (3.10.3-CAPI-1.16.1). Conversions between both will be slow.\n",
      "  warnings.warn(\n"
     ]
    }
   ],
   "source": [
    "import geopandas as gpd\n",
    "import pandas as pd\n",
    "import rioxarray as rxr\n",
    "import numpy as np\n",
    "from deafrica_tools.spatial import xr_rasterize, xr_vectorize"
   ]
  },
  {
   "cell_type": "code",
   "execution_count": 2,
   "id": "d41ce5ae-6d9f-410a-8828-8ca27f9bc979",
   "metadata": {},
   "outputs": [],
   "source": [
    "version = 'v0.4.2'\n",
    "coastlines = gpd.read_file(f\"../data/deafricacoastlines_{version}_gadm_level1.gpkg\")"
   ]
  },
  {
   "cell_type": "code",
   "execution_count": null,
   "id": "e2324598-8dc1-4f7d-a174-4ad1004b87f2",
   "metadata": {},
   "outputs": [],
   "source": [
    "coastlines = coastlines[(coastlines.certainty=='good') & (coastlines.sig_time<0.01) & (coastlines.rate_time<-0.5)]\n",
    "admins = coastlines['GID_1'].unique()"
   ]
  },
  {
   "cell_type": "code",
   "execution_count": 23,
   "id": "b7189622-d39f-4567-9456-9cdb8e152523",
   "metadata": {},
   "outputs": [
    {
     "data": {
      "text/plain": [
       "4"
      ]
     },
     "execution_count": 23,
     "metadata": {},
     "output_type": "execute_result"
    }
   ],
   "source": [
    "len(admins)"
   ]
  },
  {
   "cell_type": "code",
   "execution_count": 24,
   "id": "b4ca1a0e-bb33-40ca-84df-1b8b8239e137",
   "metadata": {},
   "outputs": [],
   "source": [
    "import os\n",
    "import datacube\n",
    "\n",
    "os.environ['AWS_DEFAULT_REGION']=\"us-east-1\"\n",
    "os.environ['AWS_S3_ENDPOINT']=\"s3.us-east-1.amazonaws.com\"\n",
    "\n",
    "# get hotspots and population\n",
    "# Load population data\n",
    "ds = rxr.open_rasterio('s3://dataforgood-fb-data/hrsl-cogs/hrsl_general/hrsl_general-latest.vrt', \n",
    "                       chunks ={'x': 1000, 'y': 1000})\n",
    "ds = ds.rename({'x':'longitude','y':'latitude'})\n",
    "\n",
    "\n",
    "dc=datacube.Datacube()\n",
    "mrvbf = dc.load(product=\"dem_srtm_deriv\", measurements=[\"mrvbf\"], dask_chunks={'longitude':2000, 'latitude':2000}, \n",
    "                like=ds.geobox).mrvbf.squeeze()"
   ]
  },
  {
   "cell_type": "code",
   "execution_count": 80,
   "id": "376dcc46-24bc-4e11-b982-290b7bd37d13",
   "metadata": {},
   "outputs": [
    {
     "name": "stdout",
     "output_type": "stream",
     "text": [
      "GHA15_2\n",
      "(634, 2906)\n",
      "not hotspots\n",
      "GHA5_2\n",
      "(1455, 3961)\n",
      "not hotspots\n",
      "GHA7_2\n",
      "(1132, 3890)\n",
      "# of hotspot pixels <xarray.DataArray ()>\n",
      "array(1057)\n",
      "Coordinates:\n",
      "    band         int64 1\n",
      "    time         datetime64[ns] 2000-01-01T12:00:00\n",
      "    spatial_ref  int32 4326\n"
     ]
    }
   ],
   "source": [
    "for admin in admins:\n",
    "    if admin == '':continue\n",
    "    print(admin)\n",
    "    \n",
    "    buffered = coastlines[coastlines['GID_1']==admin].copy()\n",
    "    buffer=500\n",
    "    buffered['geometry'] = buffered.to_crs('6933').buffer(buffer).to_crs('4326')\n",
    "    \n",
    "    coast_bbox = buffered.unary_union.bounds\n",
    "    \n",
    "    os.environ['AWS_DEFAULT_REGION']=\"us-east-1\"\n",
    "    os.environ['AWS_S3_ENDPOINT']=\"s3.us-east-1.amazonaws.com\"\n",
    "    pop_raster = ds.isel(band=0).sel(longitude=slice(coast_bbox[0],coast_bbox[2]), latitude = slice(coast_bbox[3], coast_bbox[1])).compute()#.astype(int)\n",
    "    print(pop_raster.shape)\n",
    "    \n",
    "    \n",
    "    os.environ['AWS_DEFAULT_REGION']=\"af-south-1\"\n",
    "    os.environ['AWS_S3_ENDPOINT']=\"s3.af-south-1.amazonaws.com\"\n",
    "    mrvbf_raster = mrvbf.sel(longitude=slice(coast_bbox[0],coast_bbox[2]), latitude = slice(coast_bbox[3], coast_bbox[1])).compute()\n",
    "\n",
    "    hotspots_mask = xr_rasterize(gdf=buffered,\n",
    "                                da=pop_raster,\n",
    "                                  transform=pop_raster.geobox.transform,\n",
    "                                  crs=pop_raster.geobox.crs)\n",
    "    hotspots_map = pop_raster*(mrvbf_raster==7)*hotspots_mask\n",
    "    \n",
    "    nhotspots = (hotspots_map>0).sum()\n",
    "    if nhotspots>0:\n",
    "        print(\"# of hotspot pixels\", nhotspots)\n",
    "        risk_vectors = xr_vectorize(hotspots_map, mask=hotspots_map>0, attribute_col='pop', crs='epsg:4326', export_shp=f'coastchange_hotspots/{admin}_hotspots.geojson')\n",
    "        break\n",
    "    else:\n",
    "        print(\"not hotspots\")\n",
    "        \n",
    "    del pop_raster, mrvbf_raster, hotspots_mask, hotspots_map"
   ]
  }
 ],
 "metadata": {
  "kernelspec": {
   "display_name": "Python 3 (ipykernel)",
   "language": "python",
   "name": "python3"
  },
  "language_info": {
   "codemirror_mode": {
    "name": "ipython",
    "version": 3
   },
   "file_extension": ".py",
   "mimetype": "text/x-python",
   "name": "python",
   "nbconvert_exporter": "python",
   "pygments_lexer": "ipython3",
   "version": "3.12.3"
  }
 },
 "nbformat": 4,
 "nbformat_minor": 5
}
