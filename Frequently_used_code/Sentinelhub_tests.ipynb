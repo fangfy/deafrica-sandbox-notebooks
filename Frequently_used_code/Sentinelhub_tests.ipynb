{
 "cells": [
  {
   "cell_type": "markdown",
   "metadata": {},
   "source": [
    "## Working with Sinergise service and API (work in progress)"
   ]
  },
  {
   "cell_type": "code",
   "execution_count": 1,
   "metadata": {},
   "outputs": [],
   "source": [
    "import sys\n",
    "sys.path.append('../../python3/')"
   ]
  },
  {
   "cell_type": "code",
   "execution_count": 2,
   "metadata": {},
   "outputs": [],
   "source": [
    "%reload_ext autoreload\n",
    "%autoreload 2\n",
    "\n",
    "import numpy as np\n",
    "import matplotlib.pyplot as plt\n",
    "\n",
    "# requires installation of sentinelhub python package and utils tool\n",
    "\n",
    "from sentinelhub.utils import BBoxSelector\n",
    "from sentinelhub import SentinelHubRequest, SentinelHubDownloadClient, DataSource, \\\n",
    "    MimeType, DownloadRequest, CRS, BBox"
   ]
  },
  {
   "cell_type": "code",
   "execution_count": 3,
   "metadata": {},
   "outputs": [],
   "source": [
    "import requests\n",
    "from oauthlib.oauth2 import BackendApplicationClient\n",
    "from requests_oauthlib import OAuth2Session\n",
    "import xarray as xr"
   ]
  },
  {
   "cell_type": "markdown",
   "metadata": {},
   "source": [
    "### Python API area selector"
   ]
  },
  {
   "cell_type": "code",
   "execution_count": 4,
   "metadata": {},
   "outputs": [
    {
     "data": {
      "application/vnd.jupyter.widget-view+json": {
       "model_id": "e989db95e4b1404a992c744b2087064b",
       "version_major": 2,
       "version_minor": 0
      },
      "text/plain": [
       "Map(basemap={'url': 'https://{s}.tile.openstreetmap.org/{z}/{x}/{y}.png', 'max_zoom': 19, 'attribution': 'Map …"
      ]
     },
     "metadata": {},
     "output_type": "display_data"
    }
   ],
   "source": [
    "#selector = BBoxSelector(BBox(bbox=[-2.3, 5.1, -2.2, 5.2], crs=CRS.WGS84), zoom=9, resolution=100)\n",
    "selector = BBoxSelector(BBox(bbox=[-2,5.9,-1.9,6], crs=CRS.WGS84), zoom=9, resolution=100)\n",
    "selector.show()"
   ]
  },
  {
   "cell_type": "code",
   "execution_count": 5,
   "metadata": {},
   "outputs": [
    {
     "data": {
      "text/plain": [
       "(CRS('3857'),\n",
       " -222638.98158654713,\n",
       " 657948.8109251115,\n",
       " -211507.03250721976,\n",
       " 669141.0570442454,\n",
       " (111, 111),\n",
       " 100.28782954348985)"
      ]
     },
     "execution_count": 5,
     "metadata": {},
     "output_type": "execute_result"
    }
   ],
   "source": [
    "selector.bbox.crs, selector.bbox.min_x, selector.bbox.min_y, selector.bbox.max_x, selector.bbox.max_y, selector.size, (selector.bbox.max_x-selector.bbox.min_x)/selector.size[0]"
   ]
  },
  {
   "cell_type": "markdown",
   "metadata": {},
   "source": [
    "### Query through WPS"
   ]
  },
  {
   "cell_type": "code",
   "execution_count": 6,
   "metadata": {},
   "outputs": [],
   "source": [
    "# use WFS to find out available scenes\n",
    "# for Sentinel-1 in AWS, TYPENAMES is set to DSS3\n",
    "# To find out options https://services.sentinel-hub.com/ogc/wfs/796cd957-ea45-43d4-a54c-9d60bee9f325?REQUEST=GetCapabilities \n",
    "#!!NoCRS!!, use default 3857\n",
    "\n",
    "instance_id = \"796cd957-ea45-43d4-a54c-9d60bee9f325\"\n",
    "bbox = selector.bbox.min_x, selector.bbox.min_y, selector.bbox.max_x, selector.bbox.max_y\n",
    "time = (\"2020-04-01\", \"2020-04-30\")\n",
    "\n",
    "def get_features(instance_id, bbox, time, max_per_page=100):\n",
    "    feature_offset = 0\n",
    "    query_params = dict(REQUEST='GetFeature',\n",
    "                        MAXFEATURES=str(max_per_page),\n",
    "                        FEATURE_OFFSET=str(feature_offset),\n",
    "                        OUTPUTFORMAT='application/json',\n",
    "                        TYPENAMES=\"DSS3\")\n",
    "\n",
    "    query_params.update(BBOX=f'{bbox[0]},{bbox[1]},{bbox[2]},{bbox[3]}')\n",
    "    query_params.update(TIME=f'{time[0]}/{time[1]}')\n",
    "\n",
    "    all_features = []\n",
    "    num_features = max_per_page\n",
    "    while num_features == max_per_page:\n",
    "        query_params.update(FEATURE_OFFSET=str(feature_offset))\n",
    "        response = requests.get(f'http://services.sentinel-hub.com/ogc/wfs/{instance_id}', params=query_params)\n",
    "\n",
    "        if not response.ok:\n",
    "            response.raise_for_status()\n",
    "            raise response.reason\n",
    "\n",
    "        feature_collection = response.json()\n",
    "        if feature_collection.get('type') != 'FeatureCollection' \\\n",
    "                or not isinstance(feature_collection.get('features'), list):\n",
    "            raise response.reason\n",
    "\n",
    "        features = feature_collection['features']\n",
    "        all_features.extend(features)\n",
    "        num_features = len(features)\n",
    "        feature_offset += num_features\n",
    "    \n",
    "    return all_features\n",
    "\n",
    "all_features = get_features(instance_id, bbox, time)"
   ]
  },
  {
   "cell_type": "code",
   "execution_count": 7,
   "metadata": {},
   "outputs": [
    {
     "name": "stdout",
     "output_type": "stream",
     "text": [
      "2020-04-27T00:00:00Z 2020-04-28T00:00:00Z\n",
      "2020-04-21T00:00:00Z 2020-04-22T00:00:00Z\n",
      "2020-04-15T00:00:00Z 2020-04-16T00:00:00Z\n",
      "2020-04-09T00:00:00Z 2020-04-10T00:00:00Z\n",
      "2020-04-03T00:00:00Z 2020-04-04T00:00:00Z\n"
     ]
    }
   ],
   "source": [
    "from datetime import datetime, timedelta\n",
    "\n",
    "for feature in all_features:\n",
    "    start = datetime.strptime(feature['properties']['date'],\"%Y-%m-%d\")\n",
    "    time_start, time_end = f\"{start.isoformat()}Z\", f\"{(start+timedelta(1)).isoformat()}Z\"\n",
    "    print(time_start, time_end)"
   ]
  },
  {
   "cell_type": "markdown",
   "metadata": {},
   "source": [
    "### Processing API"
   ]
  },
  {
   "cell_type": "code",
   "execution_count": 8,
   "metadata": {},
   "outputs": [],
   "source": [
    "client_id = 'bae27d91-122e-4343-9b90-a0ad6d4b91b2'\n",
    "client_secret = open('../../sentinelhub').read().strip()\n",
    "\n",
    "client = BackendApplicationClient(client_id=client_id)\n",
    "oauth = OAuth2Session(client=client)\n",
    "token = oauth.fetch_token(token_url='https://services.sentinel-hub.com/oauth/token',\n",
    "                          client_id=client_id,\n",
    "                          client_secret=client_secret)"
   ]
  },
  {
   "cell_type": "code",
   "execution_count": 9,
   "metadata": {},
   "outputs": [
    {
     "name": "stdout",
     "output_type": "stream",
     "text": [
      "<Response [200]>\n"
     ]
    }
   ],
   "source": [
    "# this is not yet working as I'd expect\n",
    "\n",
    "\n",
    "# Checking the authentication and the given access token to the user\n",
    "headers = {\n",
    "    \"Accept\":\"application/x-tar\",\n",
    "    \"Authorization\": f\"Bearer {token['access_token']}\"\n",
    "}\n",
    "#setting the body of the evalscript with processing function for calculating the average in dB units\n",
    "evalscript = \"\"\"\n",
    "//VERSION=3\n",
    "\n",
    "function setup() {\n",
    "  return {\n",
    "    input: [\"VV\"],\n",
    "    output: {id:\"default\", bands: 1},\n",
    "    mosaicking: \"ORBIT\"\n",
    "    }\n",
    "}\n",
    "\n",
    "function evaluatePixel(samples) {\n",
    "  return [samples.VV]\n",
    "}\n",
    "\n",
    "\"\"\".rstrip()\n",
    "\n",
    "# Setting the bounding box and coordinate reference system \n",
    "data = {\n",
    "    \"input\": {\n",
    "        \"bounds\":{\n",
    "            \"bbox\":[\n",
    "                bbox[0],bbox[1],bbox[2],bbox[3]\n",
    "            ],\n",
    "            \"properties\":{\n",
    "                \"crs\":\"http://www.opengis.net/def/crs/EPSG/0/3857\"\n",
    "            }\n",
    "        },\n",
    "        #Query of the S1GRD dataset using filtering options \n",
    "        \"data\": [\n",
    "            {\n",
    "                \"type\":\"S1GRD\",\n",
    "                \"dataFilter\":{\n",
    "                    \"timeRange\":{\n",
    "                        \"from\":time_start,\n",
    "                        \"to\":time_end\n",
    "                    },\n",
    "                    \"orbitDirection\": \"ASCENDING\"\n",
    "                },\n",
    "                \"processing\":{\n",
    "                    \"orthorectify\": \"true\",\n",
    "                    \"upsampling\": \"BILINEAR\",\n",
    "                    \"downsampling\": \"BILINEAR\"\n",
    "                }\n",
    "            }\n",
    "        ]\n",
    "    },\n",
    "    #Setting the output properties and format \n",
    "    \"output\": {\n",
    "        \"width\":selector.size[0],\n",
    "        \"height\":selector.size[1],\n",
    "        \"response\":[\n",
    "            {\n",
    "                \"identifier\": \"default\",\n",
    "                \"format\":{\n",
    "                    \"type\":\"image/tiff\"\n",
    "                }\n",
    "            },\n",
    "       ]\n",
    "    },\n",
    "    \"evalscript\": evalscript\n",
    "}\n",
    "\n",
    "url = \"https://services.sentinel-hub.com/api/v1/process\" \n",
    "data_response = requests.post(url, json=data, headers=headers)\n",
    "print(data_response)"
   ]
  },
  {
   "cell_type": "code",
   "execution_count": 10,
   "metadata": {},
   "outputs": [],
   "source": [
    "tiff_name = 'test.tif'\n",
    "if data_response.status_code == 200:\n",
    "    with open(tiff_name, 'wb') as f:\n",
    "        for chunk in data_response:\n",
    "            f.write(chunk)"
   ]
  },
  {
   "cell_type": "markdown",
   "metadata": {},
   "source": [
    "### Python API"
   ]
  },
  {
   "cell_type": "code",
   "execution_count": 11,
   "metadata": {},
   "outputs": [],
   "source": [
    "# this is not yet working as I'd expect\n",
    "\n",
    "evalscript = \"\"\"\n",
    "    //VERSION=3\n",
    "\n",
    "function setup() {\n",
    "  return {\n",
    "    input: [\"VV\", \"VH\"],\n",
    "    output: {id:\"default\", bands: 2},\n",
    "    mosaicking: \"ORBIT\"\n",
    "    }\n",
    "}\n",
    "\n",
    "    function evaluatePixel(sample) {\n",
    "        return [sample.VV, sample.VH];\n",
    "    }\n",
    "\"\"\"\n",
    "\n",
    "request = SentinelHubRequest(\n",
    "    evalscript=evalscript,\n",
    "    input_data=[\n",
    "        SentinelHubRequest.input_data(\n",
    "            data_source=DataSource.SENTINEL1_IW,\n",
    "            time_interval=('2020-04-01T00:00:00', '2020-04-30T00:00:00'),\n",
    "        )\n",
    "    ],#processing={\"orthorectify\": \"true\"},\n",
    "    responses=[\n",
    "        SentinelHubRequest.output_response('default', MimeType.TIFF),\n",
    "        SentinelHubRequest.output_response('userdata', MimeType.JSON)\n",
    "    ],\n",
    "    bbox=selector.bbox,\n",
    "    size=selector.size,\n",
    "    #config=config\n",
    "    data_folder='./',\n",
    ")"
   ]
  },
  {
   "cell_type": "code",
   "execution_count": 12,
   "metadata": {},
   "outputs": [],
   "source": [
    "tar = request.get_data(save_data=True)[0]"
   ]
  },
  {
   "cell_type": "code",
   "execution_count": 13,
   "metadata": {},
   "outputs": [
    {
     "data": {
      "text/plain": [
       "((111, 111, 2), None)"
      ]
     },
     "execution_count": 13,
     "metadata": {},
     "output_type": "execute_result"
    }
   ],
   "source": [
    "tar['default.tif'].shape, tar['userdata.json']"
   ]
  },
  {
   "cell_type": "code",
   "execution_count": null,
   "metadata": {},
   "outputs": [],
   "source": []
  }
 ],
 "metadata": {
  "kernelspec": {
   "display_name": "Python 3",
   "language": "python",
   "name": "python3"
  },
  "language_info": {
   "codemirror_mode": {
    "name": "ipython",
    "version": 3
   },
   "file_extension": ".py",
   "mimetype": "text/x-python",
   "name": "python",
   "nbconvert_exporter": "python",
   "pygments_lexer": "ipython3",
   "version": "3.6.9"
  }
 },
 "nbformat": 4,
 "nbformat_minor": 4
}
