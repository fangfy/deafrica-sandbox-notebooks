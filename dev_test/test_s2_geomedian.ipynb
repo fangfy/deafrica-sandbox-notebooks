{
 "cells": [
  {
   "cell_type": "markdown",
   "metadata": {},
   "source": [
    "# Make S2 Geomedian with different configurations"
   ]
  },
  {
   "cell_type": "code",
   "execution_count": null,
   "metadata": {},
   "outputs": [],
   "source": [
    "%matplotlib inline\n",
    "\n",
    "import warnings\n",
    "warnings.filterwarnings(\"ignore\")\n",
    "\n",
    "import matplotlib.pyplot as plt\n",
    "import numpy as np\n",
    "import xarray as xr\n",
    "from pyproj import Transformer\n",
    "\n",
    "import datacube\n",
    "\n",
    "import sys\n",
    "sys.path.append('../Scripts')\n",
    "from deafrica_dask import create_local_dask_cluster\n",
    "from s2_geomedian import run_tile\n"
   ]
  },
  {
   "cell_type": "code",
   "execution_count": null,
   "metadata": {},
   "outputs": [],
   "source": [
    "create_local_dask_cluster(n_workers=15)#,threads_per_worker=1)"
   ]
  },
  {
   "cell_type": "markdown",
   "metadata": {},
   "source": [
    "## Generate seasonal geomedian for 2017 and 2019"
   ]
  },
  {
   "cell_type": "code",
   "execution_count": null,
   "metadata": {},
   "outputs": [],
   "source": [
    "\n",
    "def run_seasonal_gm(lat, lon, tilesize, cloud_buffer):\n",
    "    \n",
    "    # convert to projected centre coordinates\n",
    "    transformer = Transformer.from_crs(\"epsg:4326\", \"epsg:6933\", always_xy=True)\n",
    "    x0, y0 = transformer.transform(lon, lat)\n",
    "\n",
    "    x = (x0-tilesize/2, x0+tilesize/2)\n",
    "    y = (y0-tilesize/2, y0+tilesize/2)\n",
    "\n",
    "    times = [\n",
    "        # quarter\n",
    "        (\"2017-01-01\", \"2017-03-31\"),\n",
    "        (\"2017-04-01\", \"2017-06-30\"),\n",
    "        (\"2017-07-01\", \"2017-09-30\"),\n",
    "        (\"2017-10-01\", \"2017-12-31\"),\n",
    "        # 6 month\n",
    "        (\"2017-01-01\", \"2017-06-30\"),\n",
    "        (\"2017-07-01\", \"2017-12-31\"),\n",
    "        # 12 month\n",
    "        (\"2017-01-01\", \"2017-12-31\"),\n",
    "        # quarter\n",
    "        (\"2019-01-01\", \"2019-03-31\"),\n",
    "        (\"2019-04-01\", \"2019-06-30\"),\n",
    "        (\"2019-07-01\", \"2019-09-30\"),\n",
    "        (\"2019-10-01\", \"2019-12-31\"),\n",
    "        # 6 month\n",
    "        (\"2019-01-01\", \"2019-06-30\"),\n",
    "        (\"2019-07-01\", \"2019-12-31\"),\n",
    "        # 12 month\n",
    "        (\"2019-01-01\", \"2019-12-31\"),\n",
    "        ]\n",
    "\n",
    "    dask_chunks = {'time': -1, 'x':100, 'y': 100}\n",
    "\n",
    "    filenames = []\n",
    "    for time in times:\n",
    "        if cloud_buffer>0:\n",
    "            filename = \"s2_geomedian_0_100/s2_%s_%s_%d_%d_buffer%d.nc\"%(time[0], time[1], x0, y0, cloud_buffer)\n",
    "        else:\n",
    "            filename = \"s2_geomedian_0_100/s2_%s_%s_%d_%d.nc\"%(time[0], time[1], x0, y0)\n",
    "        print(filename)\n",
    "        filenames.append(filename)\n",
    "    \n",
    "        gm = run_tile(x, y, time, filename,\n",
    "                  cloud_labels=[8,9,10], cloud_buffer=cloud_buffer, bad_labels=[0,1,3], \n",
    "                  bands=['blue','green','red','nir_2','swir_1'], # only testing a few bands for speed\n",
    "                  redo=False, \n",
    "                  dask_chunks = dask_chunks, cloud_cover=[0, 100]\n",
    "                 )\n"
   ]
  },
  {
   "cell_type": "code",
   "execution_count": null,
   "metadata": {},
   "outputs": [],
   "source": [
    "print('Buruni ==============================================================================')\n",
    "lat, lon = -3.1, 29.4\n",
    "tilesize = 50000 # 50 km\n",
    "cloud_buffer=0\n",
    "run_seasonal_gm(lat, lon, tilesize, cloud_buffer)\n",
    "\n",
    "lat, lon = -3.1, 29.4\n",
    "tilesize = 50000 # 50 km\n",
    "cloud_buffer=10\n",
    "run_seasonal_gm(lat, lon, tilesize, cloud_buffer)\n",
    "\n",
    "print('Lagos, Nigeria ==============================================================================')\n",
    "lat, lon = 6.6, 3.3\n",
    "tilesize = 50000\n",
    "cloud_buffer=0\n",
    "run_seasonal_gm(lat, lon, tilesize, cloud_buffer)\n",
    "\n",
    "lat, lon = 6.6, 3.3\n",
    "tilesize = 50000\n",
    "cloud_buffer=10\n",
    "run_seasonal_gm(lat, lon, tilesize, cloud_buffer)\n",
    "\n",
    "print('salt pan, Botswana ==============================================================================')\n",
    "lat, lon = -20.7, 25.3\n",
    "tilesize = 50000\n",
    "cloud_buffer=0\n",
    "run_seasonal_gm(lat, lon, tilesize, cloud_buffer)\n",
    "\n",
    "print('Congo/Gabon ==============================================================================')\n",
    "lat, lon = -2.3, 12.8\n",
    "tilesize = 100000\n",
    "cloud_buffer=0\n",
    "run_seasonal_gm(lat, lon, tilesize, cloud_buffer)\n",
    "\n",
    "cloud_buffer=10\n",
    "run_seasonal_gm(lat, lon, tilesize, cloud_buffer)\n"
   ]
  },
  {
   "cell_type": "code",
   "execution_count": null,
   "metadata": {},
   "outputs": [],
   "source": []
  }
 ],
 "metadata": {
  "kernelspec": {
   "display_name": "Python 3",
   "language": "python",
   "name": "python3"
  },
  "language_info": {
   "codemirror_mode": {
    "name": "ipython",
    "version": 3
   },
   "file_extension": ".py",
   "mimetype": "text/x-python",
   "name": "python",
   "nbconvert_exporter": "python",
   "pygments_lexer": "ipython3",
   "version": "3.6.9"
  }
 },
 "nbformat": 4,
 "nbformat_minor": 4
}
