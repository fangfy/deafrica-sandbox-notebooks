{
 "cells": [
  {
   "cell_type": "markdown",
   "id": "05f5a4a3-a58e-4bb6-831a-68d6dfda8066",
   "metadata": {},
   "source": [
    "# Match coastlines to GADM boundaries and geomorphology\n",
    "\n",
    "* **Products used:** [DE Africa Coastlines]()\n",
    "\n"
   ]
  },
  {
   "cell_type": "markdown",
   "id": "bf9e040e-35bd-4797-8e78-37a994f56c94",
   "metadata": {},
   "source": [
    "### Load packages\n",
    "Import Python packages that are used for the analysis."
   ]
  },
  {
   "cell_type": "code",
   "execution_count": 13,
   "id": "73c45b2f-f00a-4ff6-b237-8c19a1e32ba7",
   "metadata": {},
   "outputs": [],
   "source": [
    "import geopandas as gpd\n",
    "import numpy as np\n",
    "from shapely import box\n",
    "import os\n"
   ]
  },
  {
   "cell_type": "code",
   "execution_count": 7,
   "id": "84dcb457",
   "metadata": {},
   "outputs": [
    {
     "name": "stdout",
     "output_type": "stream",
     "text": [
      "total 6944072\n",
      "-rw-rw-rw-@ 1 Fangyuan  staff   171M May 13  2022 CoastalGeomorphology.zip\n",
      "-rwx------@ 1 Fangyuan  staff   369M Mar 27  2023 \u001b[31mgadm_africa.gpkg\u001b[m\u001b[m\n",
      "-rw-r--r--@ 1 Fangyuan  staff   109K Apr  8 10:38 gadm41_NGA_1.json.zip\n",
      "-rw-r--r--@ 1 Fangyuan  staff   955M Apr  8 11:52 CoastalGeomorphology_buffered.gpkg\n",
      "-rw-r--r--  1 Fangyuan  staff     0B Apr  8 11:52 CoastalGeomorphology_buffered.gpkg-wal\n",
      "-rw-r--r--  1 Fangyuan  staff    32K Apr  8 11:52 CoastalGeomorphology_buffered.gpkg-shm\n",
      "-rwx------@ 1 Fangyuan  staff   1.8G Apr  8 12:24 \u001b[31mdeafricacoastlines_v0.4.0.gpkg\u001b[m\u001b[m\n",
      "-rwx------  1 Fangyuan  staff     0B Apr  8 12:24 \u001b[31mdeafricacoastlines_v0.4.0.gpkg-wal\u001b[m\u001b[m\n",
      "-rwx------  1 Fangyuan  staff    32K Apr  8 12:24 \u001b[31mdeafricacoastlines_v0.4.0.gpkg-shm\u001b[m\u001b[m\n",
      "-rw-r--r--@ 1 Fangyuan  staff    73M Apr  8 12:43 deafricacoastlines_v0.4.2.gpkg.E2846cF6\n"
     ]
    }
   ],
   "source": [
    "!ls -lrth ../data/"
   ]
  },
  {
   "cell_type": "markdown",
   "id": "1d9bff94",
   "metadata": {},
   "source": [
    "## Load Coastline"
   ]
  },
  {
   "cell_type": "code",
   "execution_count": null,
   "id": "e3880ebc",
   "metadata": {},
   "outputs": [],
   "source": [
    "# coastlines version, v0.4.0(-2022) or v0.4.2 (-2023)\n",
    "version = 'v0.4.0'"
   ]
  },
  {
   "cell_type": "code",
   "execution_count": 24,
   "id": "018b8092-40ce-4c23-90e7-51144e9617c0",
   "metadata": {},
   "outputs": [
    {
     "name": "stdout",
     "output_type": "stream",
     "text": [
      "CPU times: user 20.1 s, sys: 1 s, total: 21.1 s\n",
      "Wall time: 21.4 s\n"
     ]
    }
   ],
   "source": [
    "%%time\n",
    "\n",
    "# load coastlines rate of change and filter to keep only good observations\n",
    "\n",
    "coastlines = gpd.read_file(f\"../data/deafricacoastlines_{version}.gpkg\", layer=\"rates_of_change\")\n",
    "coastlines = coastlines[(coastlines.certainty=='good')]\n",
    "coastlines.reset_index(inplace=True)"
   ]
  },
  {
   "cell_type": "code",
   "execution_count": 28,
   "id": "8670b207",
   "metadata": {},
   "outputs": [],
   "source": [
    "# Step 1: Get the bounding box (minx, miny, maxx, maxy)\n",
    "bounding_box = coastlines.total_bounds  # returns [minx, miny, maxx, maxy]\n",
    "\n",
    "# Create a box geometry from the bounding box\n",
    "bbox_geom = box(*bounding_box)\n",
    "\n",
    "# Buffer the bounding box by 1000 units (depending on CRS units)\n",
    "buffered_bbox = bbox_geom.buffer(10000)"
   ]
  },
  {
   "cell_type": "markdown",
   "id": "3b61968c",
   "metadata": {},
   "source": [
    "## Match to Geomorphology"
   ]
  },
  {
   "cell_type": "code",
   "execution_count": 30,
   "id": "0b8696b6-a4db-4c8c-a82c-a8fba8f47cbb",
   "metadata": {},
   "outputs": [],
   "source": [
    "geomorph_file = '../data/CoastalGeomorphology_africa.gpkg'\n",
    "if os.path.exists(geomorph_file):\n",
    "    geomorphology = gpd.read_file(geomorph_file)\n",
    "else:\n",
    "    geomorphology = gpd.read_file(\"../data/CoastalGeomorphology.zip\")\n",
    "    geomorphology = geomorphology.to_crs(coastlines.crs)\n",
    "\n",
    "    # Filter another GeoDataFrame (let's say 'other_gdf') using the buffered bounding box\n",
    "    geomorphology = geomorphology[geomorphology.geometry.intersects(buffered_bbox)]\n",
    "\n",
    "    geomorphology.to_file(geomorph_file, driver=\"GPKG\")"
   ]
  },
  {
   "cell_type": "code",
   "execution_count": 3,
   "id": "9369d644-91a0-4e74-aa7d-0765dbb351dd",
   "metadata": {},
   "outputs": [
    {
     "data": {
      "text/plain": [
       "0         POLYGON ((-191812.967 5669921.319, -191844.535...\n",
       "1         POLYGON ((-106350.298 5680824.839, -106349.869...\n",
       "2         POLYGON ((1222455.52 6049638.658, 1222454.362 ...\n",
       "3         POLYGON ((1223063.793 6048738.774, 1223063.464...\n",
       "4         POLYGON ((1220755.382 6048165.832, 1220755.278...\n",
       "                                ...                        \n",
       "294014    POLYGON ((-8455301.937 3686984.918, -8455311.1...\n",
       "294015    POLYGON ((-8457140.351 3686517.331, -8457143.9...\n",
       "294016    POLYGON ((9798145.837 266484.773, 9798133.668 ...\n",
       "294017    POLYGON ((9797673.76 267094.984, 9797677.652 2...\n",
       "294018    POLYGON ((12512321.931 -161238.076, 12512316.1...\n",
       "Length: 294019, dtype: geometry"
      ]
     },
     "execution_count": 3,
     "metadata": {},
     "output_type": "execute_result"
    }
   ],
   "source": [
    "#geomorphology_buffered = geomorphology.buffer(100, cap_style=2)\n",
    "#geomorphology_buffered.to_file('CoastalGeomorphology_buffered.gpkg', driver=\"GPKG\")"
   ]
  },
  {
   "cell_type": "code",
   "execution_count": 31,
   "id": "24ce27b7-f1d5-4beb-8e74-2908d05baac1",
   "metadata": {},
   "outputs": [],
   "source": [
    "coastlines_geomorph = coastlines.sjoin_nearest(geomorphology, how='left', max_distance=100, lsuffix='left', rsuffix='right', distance_col=None)"
   ]
  },
  {
   "cell_type": "code",
   "execution_count": 32,
   "id": "a9bfde18-5dfd-4c3d-a3d8-9e09c5e9d120",
   "metadata": {},
   "outputs": [
    {
     "data": {
      "text/plain": [
       "np.float64(0.15623081645181092)"
      ]
     },
     "execution_count": 32,
     "metadata": {},
     "output_type": "execute_result"
    }
   ],
   "source": [
    "(coastlines_geomorph['Preds'] == \"Wetland\").mean()"
   ]
  },
  {
   "cell_type": "code",
   "execution_count": 33,
   "id": "943a289b-8636-40b2-b357-bacb7d5fca9c",
   "metadata": {},
   "outputs": [
    {
     "data": {
      "text/plain": [
       "np.float64(0.3557646493053478)"
      ]
     },
     "execution_count": 33,
     "metadata": {},
     "output_type": "execute_result"
    }
   ],
   "source": [
    "(coastlines_geomorph['Preds'] == \"Beach\").mean()"
   ]
  },
  {
   "cell_type": "code",
   "execution_count": 34,
   "id": "1ea126a0-5487-43bf-a83d-f4d242804afc",
   "metadata": {},
   "outputs": [
    {
     "data": {
      "text/plain": [
       "np.float64(0.09202174929581834)"
      ]
     },
     "execution_count": 34,
     "metadata": {},
     "output_type": "execute_result"
    }
   ],
   "source": [
    "(coastlines_geomorph['Preds'] == \"Bedrock\").mean()"
   ]
  },
  {
   "cell_type": "code",
   "execution_count": 35,
   "id": "2a02f0fe-04a4-4a39-b835-042c8e8cb7b1",
   "metadata": {},
   "outputs": [
    {
     "data": {
      "text/plain": [
       "np.float64(0.604017215052977)"
      ]
     },
     "execution_count": 35,
     "metadata": {},
     "output_type": "execute_result"
    }
   ],
   "source": [
    "(coastlines_geomorph['Preds'] == \"Wetland\").mean()+(coastlines_geomorph['Preds'] == \"Beach\").mean()+(coastlines_geomorph['Preds'] == \"Bedrock\").mean()"
   ]
  },
  {
   "cell_type": "markdown",
   "id": "459161fe-efa3-4831-8451-30f374dcde52",
   "metadata": {
    "tags": []
   },
   "source": [
    "## Match coastlines to admin boundaries"
   ]
  },
  {
   "cell_type": "code",
   "execution_count": null,
   "id": "101298d3-08a4-468f-9cce-81f83bf14620",
   "metadata": {},
   "outputs": [
    {
     "name": "stdout",
     "output_type": "stream",
     "text": [
      "CPU times: user 2min 51s, sys: 755 ms, total: 2min 52s\n",
      "Wall time: 2min 54s\n"
     ]
    }
   ],
   "source": [
    "%%time\n",
    "\n",
    "# load level 1 admin_boundaries\n",
    "\n",
    "gadm_africa  = gpd.read_file(\"data/gadm_africa.gpkg\")\n",
    "level = 1 \n",
    "gadm_level_1 = gadm_africa.dissolve(by=f\"GID_{level}\")\n",
    "gadm_level_1 = gadm_level_1.to_crs(coastlines.crs)\n",
    "gadm_level_1.reset_index(inplace=True)\n",
    "\n",
    "level = 0\n",
    "gadm_level_0 = gadm_africa.dissolve(by=f\"GID_{level}\")\n",
    "gadm_level_0 = gadm_level_0.to_crs(coastlines.crs)\n",
    "gadm_level_0.reset_index(inplace=True)\n"
   ]
  },
  {
   "cell_type": "code",
   "execution_count": null,
   "id": "38817cfc-193f-4141-96a9-011990eb299b",
   "metadata": {},
   "outputs": [
    {
     "ename": "ValueError",
     "evalue": "'index_right' cannot be a column name in the frames being joined",
     "output_type": "error",
     "traceback": [
      "\u001b[0;31m---------------------------------------------------------------------------\u001b[0m",
      "\u001b[0;31mValueError\u001b[0m                                Traceback (most recent call last)",
      "File \u001b[0;32m<timed exec>:1\u001b[0m\n",
      "File \u001b[0;32m/opt/venv/lib/python3.12/site-packages/geopandas/geodataframe.py:2517\u001b[0m, in \u001b[0;36mGeoDataFrame.sjoin_nearest\u001b[0;34m(self, right, how, max_distance, lsuffix, rsuffix, distance_col, exclusive)\u001b[0m\n\u001b[1;32m   2393\u001b[0m \u001b[38;5;28;01mdef\u001b[39;00m\u001b[38;5;250m \u001b[39m\u001b[38;5;21msjoin_nearest\u001b[39m(\n\u001b[1;32m   2394\u001b[0m     \u001b[38;5;28mself\u001b[39m,\n\u001b[1;32m   2395\u001b[0m     right,\n\u001b[0;32m   (...)\u001b[0m\n\u001b[1;32m   2401\u001b[0m     exclusive\u001b[38;5;241m=\u001b[39m\u001b[38;5;28;01mFalse\u001b[39;00m,\n\u001b[1;32m   2402\u001b[0m ):\n\u001b[1;32m   2403\u001b[0m \u001b[38;5;250m    \u001b[39m\u001b[38;5;124;03m\"\"\"\u001b[39;00m\n\u001b[1;32m   2404\u001b[0m \u001b[38;5;124;03m    Spatial join of two GeoDataFrames based on the distance between their\u001b[39;00m\n\u001b[1;32m   2405\u001b[0m \u001b[38;5;124;03m    geometries.\u001b[39;00m\n\u001b[0;32m   (...)\u001b[0m\n\u001b[1;32m   2515\u001b[0m \u001b[38;5;124;03m    dimension is not taken into account.\u001b[39;00m\n\u001b[1;32m   2516\u001b[0m \u001b[38;5;124;03m    \"\"\"\u001b[39;00m\n\u001b[0;32m-> 2517\u001b[0m     \u001b[38;5;28;01mreturn\u001b[39;00m \u001b[43mgeopandas\u001b[49m\u001b[38;5;241;43m.\u001b[39;49m\u001b[43msjoin_nearest\u001b[49m\u001b[43m(\u001b[49m\n\u001b[1;32m   2518\u001b[0m \u001b[43m        \u001b[49m\u001b[38;5;28;43mself\u001b[39;49m\u001b[43m,\u001b[49m\n\u001b[1;32m   2519\u001b[0m \u001b[43m        \u001b[49m\u001b[43mright\u001b[49m\u001b[43m,\u001b[49m\n\u001b[1;32m   2520\u001b[0m \u001b[43m        \u001b[49m\u001b[43mhow\u001b[49m\u001b[38;5;241;43m=\u001b[39;49m\u001b[43mhow\u001b[49m\u001b[43m,\u001b[49m\n\u001b[1;32m   2521\u001b[0m \u001b[43m        \u001b[49m\u001b[43mmax_distance\u001b[49m\u001b[38;5;241;43m=\u001b[39;49m\u001b[43mmax_distance\u001b[49m\u001b[43m,\u001b[49m\n\u001b[1;32m   2522\u001b[0m \u001b[43m        \u001b[49m\u001b[43mlsuffix\u001b[49m\u001b[38;5;241;43m=\u001b[39;49m\u001b[43mlsuffix\u001b[49m\u001b[43m,\u001b[49m\n\u001b[1;32m   2523\u001b[0m \u001b[43m        \u001b[49m\u001b[43mrsuffix\u001b[49m\u001b[38;5;241;43m=\u001b[39;49m\u001b[43mrsuffix\u001b[49m\u001b[43m,\u001b[49m\n\u001b[1;32m   2524\u001b[0m \u001b[43m        \u001b[49m\u001b[43mdistance_col\u001b[49m\u001b[38;5;241;43m=\u001b[39;49m\u001b[43mdistance_col\u001b[49m\u001b[43m,\u001b[49m\n\u001b[1;32m   2525\u001b[0m \u001b[43m        \u001b[49m\u001b[43mexclusive\u001b[49m\u001b[38;5;241;43m=\u001b[39;49m\u001b[43mexclusive\u001b[49m\u001b[43m,\u001b[49m\n\u001b[1;32m   2526\u001b[0m \u001b[43m    \u001b[49m\u001b[43m)\u001b[49m\n",
      "File \u001b[0;32m/opt/venv/lib/python3.12/site-packages/geopandas/tools/sjoin.py:720\u001b[0m, in \u001b[0;36msjoin_nearest\u001b[0;34m(left_df, right_df, how, max_distance, lsuffix, rsuffix, distance_col, exclusive)\u001b[0m\n\u001b[1;32m    710\u001b[0m return_distance \u001b[38;5;241m=\u001b[39m distance_col \u001b[38;5;129;01mis\u001b[39;00m \u001b[38;5;129;01mnot\u001b[39;00m \u001b[38;5;28;01mNone\u001b[39;00m\n\u001b[1;32m    712\u001b[0m indices, distances \u001b[38;5;241m=\u001b[39m _nearest_query(\n\u001b[1;32m    713\u001b[0m     left_df,\n\u001b[1;32m    714\u001b[0m     right_df,\n\u001b[0;32m   (...)\u001b[0m\n\u001b[1;32m    718\u001b[0m     exclusive,\n\u001b[1;32m    719\u001b[0m )\n\u001b[0;32m--> 720\u001b[0m joined, distances \u001b[38;5;241m=\u001b[39m \u001b[43m_frame_join\u001b[49m\u001b[43m(\u001b[49m\n\u001b[1;32m    721\u001b[0m \u001b[43m    \u001b[49m\u001b[43mleft_df\u001b[49m\u001b[43m,\u001b[49m\n\u001b[1;32m    722\u001b[0m \u001b[43m    \u001b[49m\u001b[43mright_df\u001b[49m\u001b[43m,\u001b[49m\n\u001b[1;32m    723\u001b[0m \u001b[43m    \u001b[49m\u001b[43mindices\u001b[49m\u001b[43m,\u001b[49m\n\u001b[1;32m    724\u001b[0m \u001b[43m    \u001b[49m\u001b[43mdistances\u001b[49m\u001b[43m,\u001b[49m\n\u001b[1;32m    725\u001b[0m \u001b[43m    \u001b[49m\u001b[43mhow\u001b[49m\u001b[43m,\u001b[49m\n\u001b[1;32m    726\u001b[0m \u001b[43m    \u001b[49m\u001b[43mlsuffix\u001b[49m\u001b[43m,\u001b[49m\n\u001b[1;32m    727\u001b[0m \u001b[43m    \u001b[49m\u001b[43mrsuffix\u001b[49m\u001b[43m,\u001b[49m\n\u001b[1;32m    728\u001b[0m \u001b[43m    \u001b[49m\u001b[38;5;28;43;01mNone\u001b[39;49;00m\u001b[43m,\u001b[49m\n\u001b[1;32m    729\u001b[0m \u001b[43m\u001b[49m\u001b[43m)\u001b[49m\n\u001b[1;32m    731\u001b[0m \u001b[38;5;28;01mif\u001b[39;00m return_distance:\n\u001b[1;32m    732\u001b[0m     joined[distance_col] \u001b[38;5;241m=\u001b[39m distances\n",
      "File \u001b[0;32m/opt/venv/lib/python3.12/site-packages/geopandas/tools/sjoin.py:469\u001b[0m, in \u001b[0;36m_frame_join\u001b[0;34m(left_df, right_df, indices, distances, how, lsuffix, rsuffix, predicate, on_attribute)\u001b[0m\n\u001b[1;32m    467\u001b[0m right_nlevels \u001b[38;5;241m=\u001b[39m right_df\u001b[38;5;241m.\u001b[39mindex\u001b[38;5;241m.\u001b[39mnlevels\n\u001b[1;32m    468\u001b[0m right_index_original \u001b[38;5;241m=\u001b[39m right_df\u001b[38;5;241m.\u001b[39mindex\u001b[38;5;241m.\u001b[39mnames\n\u001b[0;32m--> 469\u001b[0m right_df, right_column_names \u001b[38;5;241m=\u001b[39m \u001b[43m_reset_index_with_suffix\u001b[49m\u001b[43m(\u001b[49m\u001b[43mright_df\u001b[49m\u001b[43m,\u001b[49m\u001b[43m \u001b[49m\u001b[43mrsuffix\u001b[49m\u001b[43m,\u001b[49m\u001b[43m \u001b[49m\u001b[43mleft_df\u001b[49m\u001b[43m)\u001b[49m\n\u001b[1;32m    471\u001b[0m \u001b[38;5;66;03m# if conflicting names in left and right, add suffix\u001b[39;00m\n\u001b[1;32m    472\u001b[0m left_column_names, right_column_names \u001b[38;5;241m=\u001b[39m _process_column_names_with_suffix(\n\u001b[1;32m    473\u001b[0m     left_column_names,\n\u001b[1;32m    474\u001b[0m     right_column_names,\n\u001b[0;32m   (...)\u001b[0m\n\u001b[1;32m    477\u001b[0m     right_df,\n\u001b[1;32m    478\u001b[0m )\n",
      "File \u001b[0;32m/opt/venv/lib/python3.12/site-packages/geopandas/tools/sjoin.py:288\u001b[0m, in \u001b[0;36m_reset_index_with_suffix\u001b[0;34m(df, suffix, other)\u001b[0m\n\u001b[1;32m    286\u001b[0m         \u001b[38;5;66;03m# check new label will not be in other dataframe\u001b[39;00m\n\u001b[1;32m    287\u001b[0m         \u001b[38;5;28;01mif\u001b[39;00m new_label \u001b[38;5;129;01min\u001b[39;00m df\u001b[38;5;241m.\u001b[39mcolumns \u001b[38;5;129;01mor\u001b[39;00m new_label \u001b[38;5;129;01min\u001b[39;00m other\u001b[38;5;241m.\u001b[39mcolumns:\n\u001b[0;32m--> 288\u001b[0m             \u001b[38;5;28;01mraise\u001b[39;00m \u001b[38;5;167;01mValueError\u001b[39;00m(\n\u001b[1;32m    289\u001b[0m                 \u001b[38;5;124m\"\u001b[39m\u001b[38;5;124m'\u001b[39m\u001b[38;5;132;01m{0}\u001b[39;00m\u001b[38;5;124m'\u001b[39m\u001b[38;5;124m cannot be a column name in the frames being\u001b[39m\u001b[38;5;124m\"\u001b[39m\n\u001b[1;32m    290\u001b[0m                 \u001b[38;5;124m\"\u001b[39m\u001b[38;5;124m joined\u001b[39m\u001b[38;5;124m\"\u001b[39m\u001b[38;5;241m.\u001b[39mformat(new_label)\n\u001b[1;32m    291\u001b[0m             )\n\u001b[1;32m    292\u001b[0m         column_names[i] \u001b[38;5;241m=\u001b[39m new_label\n\u001b[1;32m    293\u001b[0m \u001b[38;5;28;01mreturn\u001b[39;00m df_reset, pd\u001b[38;5;241m.\u001b[39mIndex(column_names)\n",
      "\u001b[0;31mValueError\u001b[0m: 'index_right' cannot be a column name in the frames being joined"
     ]
    }
   ],
   "source": [
    "%%time\n",
    "coastlines_geomorph = coastlines_geomorph.sjoin_nearest(gadm_level_0, how='left', max_distance=1000, lsuffix='left', rsuffix='right', distance_col=None)\n",
    "coastlines_geomorph = coastlines_geomorph.sjoin_nearest(gadm_level_1, how='left', max_distance=1000, lsuffix='left', rsuffix='right', distance_col=None)"
   ]
  },
  {
   "cell_type": "code",
   "execution_count": null,
   "id": "677e0164-c561-4474-9928-cc617047f883",
   "metadata": {},
   "outputs": [
    {
     "ename": "DataSourceError",
     "evalue": "sqlite3_open(/home/jovyan/dev/data/deafricacoastlines_v0.4.2_geomorph_gadm.gpkg) failed: unable to open database file",
     "output_type": "error",
     "traceback": [
      "\u001b[0;31m---------------------------------------------------------------------------\u001b[0m",
      "\u001b[0;31mCPLE_OpenFailedError\u001b[0m                      Traceback (most recent call last)",
      "File \u001b[0;32mpyogrio/_io.pyx:1947\u001b[0m, in \u001b[0;36mpyogrio._io.ogr_create\u001b[0;34m()\u001b[0m\n",
      "File \u001b[0;32mpyogrio/_err.pyx:183\u001b[0m, in \u001b[0;36mpyogrio._err.exc_wrap_pointer\u001b[0;34m()\u001b[0m\n",
      "\u001b[0;31mCPLE_OpenFailedError\u001b[0m: sqlite3_open(/home/jovyan/dev/data/deafricacoastlines_v0.4.2_geomorph_gadm.gpkg) failed: unable to open database file",
      "\nDuring handling of the above exception, another exception occurred:\n",
      "\u001b[0;31mDataSourceError\u001b[0m                           Traceback (most recent call last)",
      "File \u001b[0;32m<timed eval>:1\u001b[0m\n",
      "File \u001b[0;32m/opt/venv/lib/python3.12/site-packages/geopandas/geodataframe.py:1536\u001b[0m, in \u001b[0;36mGeoDataFrame.to_file\u001b[0;34m(self, filename, driver, schema, index, **kwargs)\u001b[0m\n\u001b[1;32m   1441\u001b[0m \u001b[38;5;250m\u001b[39m\u001b[38;5;124;03m\"\"\"Write the ``GeoDataFrame`` to a file.\u001b[39;00m\n\u001b[1;32m   1442\u001b[0m \n\u001b[1;32m   1443\u001b[0m \u001b[38;5;124;03mBy default, an ESRI shapefile is written, but any OGR data source\u001b[39;00m\n\u001b[0;32m   (...)\u001b[0m\n\u001b[1;32m   1532\u001b[0m \n\u001b[1;32m   1533\u001b[0m \u001b[38;5;124;03m\"\"\"\u001b[39;00m\n\u001b[1;32m   1534\u001b[0m \u001b[38;5;28;01mfrom\u001b[39;00m\u001b[38;5;250m \u001b[39m\u001b[38;5;21;01mgeopandas\u001b[39;00m\u001b[38;5;21;01m.\u001b[39;00m\u001b[38;5;21;01mio\u001b[39;00m\u001b[38;5;21;01m.\u001b[39;00m\u001b[38;5;21;01mfile\u001b[39;00m\u001b[38;5;250m \u001b[39m\u001b[38;5;28;01mimport\u001b[39;00m _to_file\n\u001b[0;32m-> 1536\u001b[0m \u001b[43m_to_file\u001b[49m\u001b[43m(\u001b[49m\u001b[38;5;28;43mself\u001b[39;49m\u001b[43m,\u001b[49m\u001b[43m \u001b[49m\u001b[43mfilename\u001b[49m\u001b[43m,\u001b[49m\u001b[43m \u001b[49m\u001b[43mdriver\u001b[49m\u001b[43m,\u001b[49m\u001b[43m \u001b[49m\u001b[43mschema\u001b[49m\u001b[43m,\u001b[49m\u001b[43m \u001b[49m\u001b[43mindex\u001b[49m\u001b[43m,\u001b[49m\u001b[43m \u001b[49m\u001b[38;5;241;43m*\u001b[39;49m\u001b[38;5;241;43m*\u001b[39;49m\u001b[43mkwargs\u001b[49m\u001b[43m)\u001b[49m\n",
      "File \u001b[0;32m/opt/venv/lib/python3.12/site-packages/geopandas/io/file.py:686\u001b[0m, in \u001b[0;36m_to_file\u001b[0;34m(df, filename, driver, schema, index, mode, crs, engine, metadata, **kwargs)\u001b[0m\n\u001b[1;32m    683\u001b[0m     \u001b[38;5;28;01mraise\u001b[39;00m \u001b[38;5;167;01mValueError\u001b[39;00m(\u001b[38;5;124mf\u001b[39m\u001b[38;5;124m\"\u001b[39m\u001b[38;5;124m'\u001b[39m\u001b[38;5;124mmode\u001b[39m\u001b[38;5;124m'\u001b[39m\u001b[38;5;124m should be one of \u001b[39m\u001b[38;5;124m'\u001b[39m\u001b[38;5;124mw\u001b[39m\u001b[38;5;124m'\u001b[39m\u001b[38;5;124m or \u001b[39m\u001b[38;5;124m'\u001b[39m\u001b[38;5;124ma\u001b[39m\u001b[38;5;124m'\u001b[39m\u001b[38;5;124m, got \u001b[39m\u001b[38;5;124m'\u001b[39m\u001b[38;5;132;01m{\u001b[39;00mmode\u001b[38;5;132;01m}\u001b[39;00m\u001b[38;5;124m'\u001b[39m\u001b[38;5;124m instead\u001b[39m\u001b[38;5;124m\"\u001b[39m)\n\u001b[1;32m    685\u001b[0m \u001b[38;5;28;01mif\u001b[39;00m engine \u001b[38;5;241m==\u001b[39m \u001b[38;5;124m\"\u001b[39m\u001b[38;5;124mpyogrio\u001b[39m\u001b[38;5;124m\"\u001b[39m:\n\u001b[0;32m--> 686\u001b[0m     \u001b[43m_to_file_pyogrio\u001b[49m\u001b[43m(\u001b[49m\u001b[43mdf\u001b[49m\u001b[43m,\u001b[49m\u001b[43m \u001b[49m\u001b[43mfilename\u001b[49m\u001b[43m,\u001b[49m\u001b[43m \u001b[49m\u001b[43mdriver\u001b[49m\u001b[43m,\u001b[49m\u001b[43m \u001b[49m\u001b[43mschema\u001b[49m\u001b[43m,\u001b[49m\u001b[43m \u001b[49m\u001b[43mcrs\u001b[49m\u001b[43m,\u001b[49m\u001b[43m \u001b[49m\u001b[43mmode\u001b[49m\u001b[43m,\u001b[49m\u001b[43m \u001b[49m\u001b[43mmetadata\u001b[49m\u001b[43m,\u001b[49m\u001b[43m \u001b[49m\u001b[38;5;241;43m*\u001b[39;49m\u001b[38;5;241;43m*\u001b[39;49m\u001b[43mkwargs\u001b[49m\u001b[43m)\u001b[49m\n\u001b[1;32m    687\u001b[0m \u001b[38;5;28;01melif\u001b[39;00m engine \u001b[38;5;241m==\u001b[39m \u001b[38;5;124m\"\u001b[39m\u001b[38;5;124mfiona\u001b[39m\u001b[38;5;124m\"\u001b[39m:\n\u001b[1;32m    688\u001b[0m     _to_file_fiona(df, filename, driver, schema, crs, mode, metadata, \u001b[38;5;241m*\u001b[39m\u001b[38;5;241m*\u001b[39mkwargs)\n",
      "File \u001b[0;32m/opt/venv/lib/python3.12/site-packages/geopandas/io/file.py:748\u001b[0m, in \u001b[0;36m_to_file_pyogrio\u001b[0;34m(df, filename, driver, schema, crs, mode, metadata, **kwargs)\u001b[0m\n\u001b[1;32m    745\u001b[0m \u001b[38;5;28;01mif\u001b[39;00m \u001b[38;5;129;01mnot\u001b[39;00m df\u001b[38;5;241m.\u001b[39mcolumns\u001b[38;5;241m.\u001b[39mis_unique:\n\u001b[1;32m    746\u001b[0m     \u001b[38;5;28;01mraise\u001b[39;00m \u001b[38;5;167;01mValueError\u001b[39;00m(\u001b[38;5;124m\"\u001b[39m\u001b[38;5;124mGeoDataFrame cannot contain duplicated column names.\u001b[39m\u001b[38;5;124m\"\u001b[39m)\n\u001b[0;32m--> 748\u001b[0m \u001b[43mpyogrio\u001b[49m\u001b[38;5;241;43m.\u001b[39;49m\u001b[43mwrite_dataframe\u001b[49m\u001b[43m(\u001b[49m\u001b[43mdf\u001b[49m\u001b[43m,\u001b[49m\u001b[43m \u001b[49m\u001b[43mfilename\u001b[49m\u001b[43m,\u001b[49m\u001b[43m \u001b[49m\u001b[43mdriver\u001b[49m\u001b[38;5;241;43m=\u001b[39;49m\u001b[43mdriver\u001b[49m\u001b[43m,\u001b[49m\u001b[43m \u001b[49m\u001b[43mmetadata\u001b[49m\u001b[38;5;241;43m=\u001b[39;49m\u001b[43mmetadata\u001b[49m\u001b[43m,\u001b[49m\u001b[43m \u001b[49m\u001b[38;5;241;43m*\u001b[39;49m\u001b[38;5;241;43m*\u001b[39;49m\u001b[43mkwargs\u001b[49m\u001b[43m)\u001b[49m\n",
      "File \u001b[0;32m/opt/venv/lib/python3.12/site-packages/pyogrio/geopandas.py:662\u001b[0m, in \u001b[0;36mwrite_dataframe\u001b[0;34m(df, path, layer, driver, encoding, geometry_type, promote_to_multi, nan_as_null, append, use_arrow, dataset_metadata, layer_metadata, metadata, dataset_options, layer_options, **kwargs)\u001b[0m\n\u001b[1;32m    659\u001b[0m \u001b[38;5;28;01mif\u001b[39;00m geometry_column \u001b[38;5;129;01mis\u001b[39;00m \u001b[38;5;129;01mnot\u001b[39;00m \u001b[38;5;28;01mNone\u001b[39;00m:\n\u001b[1;32m    660\u001b[0m     geometry \u001b[38;5;241m=\u001b[39m to_wkb(geometry\u001b[38;5;241m.\u001b[39mvalues)\n\u001b[0;32m--> 662\u001b[0m \u001b[43mwrite\u001b[49m\u001b[43m(\u001b[49m\n\u001b[1;32m    663\u001b[0m \u001b[43m    \u001b[49m\u001b[43mpath\u001b[49m\u001b[43m,\u001b[49m\n\u001b[1;32m    664\u001b[0m \u001b[43m    \u001b[49m\u001b[43mlayer\u001b[49m\u001b[38;5;241;43m=\u001b[39;49m\u001b[43mlayer\u001b[49m\u001b[43m,\u001b[49m\n\u001b[1;32m    665\u001b[0m \u001b[43m    \u001b[49m\u001b[43mdriver\u001b[49m\u001b[38;5;241;43m=\u001b[39;49m\u001b[43mdriver\u001b[49m\u001b[43m,\u001b[49m\n\u001b[1;32m    666\u001b[0m \u001b[43m    \u001b[49m\u001b[43mgeometry\u001b[49m\u001b[38;5;241;43m=\u001b[39;49m\u001b[43mgeometry\u001b[49m\u001b[43m,\u001b[49m\n\u001b[1;32m    667\u001b[0m \u001b[43m    \u001b[49m\u001b[43mfield_data\u001b[49m\u001b[38;5;241;43m=\u001b[39;49m\u001b[43mfield_data\u001b[49m\u001b[43m,\u001b[49m\n\u001b[1;32m    668\u001b[0m \u001b[43m    \u001b[49m\u001b[43mfield_mask\u001b[49m\u001b[38;5;241;43m=\u001b[39;49m\u001b[43mfield_mask\u001b[49m\u001b[43m,\u001b[49m\n\u001b[1;32m    669\u001b[0m \u001b[43m    \u001b[49m\u001b[43mfields\u001b[49m\u001b[38;5;241;43m=\u001b[39;49m\u001b[43mfields\u001b[49m\u001b[43m,\u001b[49m\n\u001b[1;32m    670\u001b[0m \u001b[43m    \u001b[49m\u001b[43mcrs\u001b[49m\u001b[38;5;241;43m=\u001b[39;49m\u001b[43mcrs\u001b[49m\u001b[43m,\u001b[49m\n\u001b[1;32m    671\u001b[0m \u001b[43m    \u001b[49m\u001b[43mgeometry_type\u001b[49m\u001b[38;5;241;43m=\u001b[39;49m\u001b[43mgeometry_type\u001b[49m\u001b[43m,\u001b[49m\n\u001b[1;32m    672\u001b[0m \u001b[43m    \u001b[49m\u001b[43mencoding\u001b[49m\u001b[38;5;241;43m=\u001b[39;49m\u001b[43mencoding\u001b[49m\u001b[43m,\u001b[49m\n\u001b[1;32m    673\u001b[0m \u001b[43m    \u001b[49m\u001b[43mpromote_to_multi\u001b[49m\u001b[38;5;241;43m=\u001b[39;49m\u001b[43mpromote_to_multi\u001b[49m\u001b[43m,\u001b[49m\n\u001b[1;32m    674\u001b[0m \u001b[43m    \u001b[49m\u001b[43mnan_as_null\u001b[49m\u001b[38;5;241;43m=\u001b[39;49m\u001b[43mnan_as_null\u001b[49m\u001b[43m,\u001b[49m\n\u001b[1;32m    675\u001b[0m \u001b[43m    \u001b[49m\u001b[43mappend\u001b[49m\u001b[38;5;241;43m=\u001b[39;49m\u001b[43mappend\u001b[49m\u001b[43m,\u001b[49m\n\u001b[1;32m    676\u001b[0m \u001b[43m    \u001b[49m\u001b[43mdataset_metadata\u001b[49m\u001b[38;5;241;43m=\u001b[39;49m\u001b[43mdataset_metadata\u001b[49m\u001b[43m,\u001b[49m\n\u001b[1;32m    677\u001b[0m \u001b[43m    \u001b[49m\u001b[43mlayer_metadata\u001b[49m\u001b[38;5;241;43m=\u001b[39;49m\u001b[43mlayer_metadata\u001b[49m\u001b[43m,\u001b[49m\n\u001b[1;32m    678\u001b[0m \u001b[43m    \u001b[49m\u001b[43mmetadata\u001b[49m\u001b[38;5;241;43m=\u001b[39;49m\u001b[43mmetadata\u001b[49m\u001b[43m,\u001b[49m\n\u001b[1;32m    679\u001b[0m \u001b[43m    \u001b[49m\u001b[43mdataset_options\u001b[49m\u001b[38;5;241;43m=\u001b[39;49m\u001b[43mdataset_options\u001b[49m\u001b[43m,\u001b[49m\n\u001b[1;32m    680\u001b[0m \u001b[43m    \u001b[49m\u001b[43mlayer_options\u001b[49m\u001b[38;5;241;43m=\u001b[39;49m\u001b[43mlayer_options\u001b[49m\u001b[43m,\u001b[49m\n\u001b[1;32m    681\u001b[0m \u001b[43m    \u001b[49m\u001b[43mgdal_tz_offsets\u001b[49m\u001b[38;5;241;43m=\u001b[39;49m\u001b[43mgdal_tz_offsets\u001b[49m\u001b[43m,\u001b[49m\n\u001b[1;32m    682\u001b[0m \u001b[43m    \u001b[49m\u001b[38;5;241;43m*\u001b[39;49m\u001b[38;5;241;43m*\u001b[39;49m\u001b[43mkwargs\u001b[49m\u001b[43m,\u001b[49m\n\u001b[1;32m    683\u001b[0m \u001b[43m\u001b[49m\u001b[43m)\u001b[49m\n",
      "File \u001b[0;32m/opt/venv/lib/python3.12/site-packages/pyogrio/raw.py:723\u001b[0m, in \u001b[0;36mwrite\u001b[0;34m(path, geometry, field_data, fields, field_mask, layer, driver, geometry_type, crs, encoding, promote_to_multi, nan_as_null, append, dataset_metadata, layer_metadata, metadata, dataset_options, layer_options, gdal_tz_offsets, **kwargs)\u001b[0m\n\u001b[1;32m    718\u001b[0m \u001b[38;5;66;03m# preprocess kwargs and split in dataset and layer creation options\u001b[39;00m\n\u001b[1;32m    719\u001b[0m dataset_kwargs, layer_kwargs \u001b[38;5;241m=\u001b[39m _preprocess_options_kwargs(\n\u001b[1;32m    720\u001b[0m     driver, dataset_options, layer_options, kwargs\n\u001b[1;32m    721\u001b[0m )\n\u001b[0;32m--> 723\u001b[0m \u001b[43mogr_write\u001b[49m\u001b[43m(\u001b[49m\n\u001b[1;32m    724\u001b[0m \u001b[43m    \u001b[49m\u001b[43mpath\u001b[49m\u001b[43m,\u001b[49m\n\u001b[1;32m    725\u001b[0m \u001b[43m    \u001b[49m\u001b[43mlayer\u001b[49m\u001b[38;5;241;43m=\u001b[39;49m\u001b[43mlayer\u001b[49m\u001b[43m,\u001b[49m\n\u001b[1;32m    726\u001b[0m \u001b[43m    \u001b[49m\u001b[43mdriver\u001b[49m\u001b[38;5;241;43m=\u001b[39;49m\u001b[43mdriver\u001b[49m\u001b[43m,\u001b[49m\n\u001b[1;32m    727\u001b[0m \u001b[43m    \u001b[49m\u001b[43mgeometry\u001b[49m\u001b[38;5;241;43m=\u001b[39;49m\u001b[43mgeometry\u001b[49m\u001b[43m,\u001b[49m\n\u001b[1;32m    728\u001b[0m \u001b[43m    \u001b[49m\u001b[43mgeometry_type\u001b[49m\u001b[38;5;241;43m=\u001b[39;49m\u001b[43mgeometry_type\u001b[49m\u001b[43m,\u001b[49m\n\u001b[1;32m    729\u001b[0m \u001b[43m    \u001b[49m\u001b[43mfield_data\u001b[49m\u001b[38;5;241;43m=\u001b[39;49m\u001b[43mfield_data\u001b[49m\u001b[43m,\u001b[49m\n\u001b[1;32m    730\u001b[0m \u001b[43m    \u001b[49m\u001b[43mfield_mask\u001b[49m\u001b[38;5;241;43m=\u001b[39;49m\u001b[43mfield_mask\u001b[49m\u001b[43m,\u001b[49m\n\u001b[1;32m    731\u001b[0m \u001b[43m    \u001b[49m\u001b[43mfields\u001b[49m\u001b[38;5;241;43m=\u001b[39;49m\u001b[43mfields\u001b[49m\u001b[43m,\u001b[49m\n\u001b[1;32m    732\u001b[0m \u001b[43m    \u001b[49m\u001b[43mcrs\u001b[49m\u001b[38;5;241;43m=\u001b[39;49m\u001b[43mcrs\u001b[49m\u001b[43m,\u001b[49m\n\u001b[1;32m    733\u001b[0m \u001b[43m    \u001b[49m\u001b[43mencoding\u001b[49m\u001b[38;5;241;43m=\u001b[39;49m\u001b[43mencoding\u001b[49m\u001b[43m,\u001b[49m\n\u001b[1;32m    734\u001b[0m \u001b[43m    \u001b[49m\u001b[43mpromote_to_multi\u001b[49m\u001b[38;5;241;43m=\u001b[39;49m\u001b[43mpromote_to_multi\u001b[49m\u001b[43m,\u001b[49m\n\u001b[1;32m    735\u001b[0m \u001b[43m    \u001b[49m\u001b[43mnan_as_null\u001b[49m\u001b[38;5;241;43m=\u001b[39;49m\u001b[43mnan_as_null\u001b[49m\u001b[43m,\u001b[49m\n\u001b[1;32m    736\u001b[0m \u001b[43m    \u001b[49m\u001b[43mappend\u001b[49m\u001b[38;5;241;43m=\u001b[39;49m\u001b[43mappend\u001b[49m\u001b[43m,\u001b[49m\n\u001b[1;32m    737\u001b[0m \u001b[43m    \u001b[49m\u001b[43mdataset_metadata\u001b[49m\u001b[38;5;241;43m=\u001b[39;49m\u001b[43mdataset_metadata\u001b[49m\u001b[43m,\u001b[49m\n\u001b[1;32m    738\u001b[0m \u001b[43m    \u001b[49m\u001b[43mlayer_metadata\u001b[49m\u001b[38;5;241;43m=\u001b[39;49m\u001b[43mlayer_metadata\u001b[49m\u001b[43m,\u001b[49m\n\u001b[1;32m    739\u001b[0m \u001b[43m    \u001b[49m\u001b[43mdataset_kwargs\u001b[49m\u001b[38;5;241;43m=\u001b[39;49m\u001b[43mdataset_kwargs\u001b[49m\u001b[43m,\u001b[49m\n\u001b[1;32m    740\u001b[0m \u001b[43m    \u001b[49m\u001b[43mlayer_kwargs\u001b[49m\u001b[38;5;241;43m=\u001b[39;49m\u001b[43mlayer_kwargs\u001b[49m\u001b[43m,\u001b[49m\n\u001b[1;32m    741\u001b[0m \u001b[43m    \u001b[49m\u001b[43mgdal_tz_offsets\u001b[49m\u001b[38;5;241;43m=\u001b[39;49m\u001b[43mgdal_tz_offsets\u001b[49m\u001b[43m,\u001b[49m\n\u001b[1;32m    742\u001b[0m \u001b[43m\u001b[49m\u001b[43m)\u001b[49m\n",
      "File \u001b[0;32mpyogrio/_io.pyx:2307\u001b[0m, in \u001b[0;36mpyogrio._io.ogr_write\u001b[0;34m()\u001b[0m\n",
      "File \u001b[0;32mpyogrio/_io.pyx:2135\u001b[0m, in \u001b[0;36mpyogrio._io.create_ogr_dataset_layer\u001b[0;34m()\u001b[0m\n",
      "File \u001b[0;32mpyogrio/_io.pyx:1956\u001b[0m, in \u001b[0;36mpyogrio._io.ogr_create\u001b[0;34m()\u001b[0m\n",
      "\u001b[0;31mDataSourceError\u001b[0m: sqlite3_open(/home/jovyan/dev/data/deafricacoastlines_v0.4.2_geomorph_gadm.gpkg) failed: unable to open database file"
     ]
    }
   ],
   "source": [
    "%%time\n",
    "coastlines_geomorph.to_file(f\"~/dev/data/deafricacoastlines_{version}_geomorph_gadm.gpkg\")\n"
   ]
  },
  {
   "cell_type": "markdown",
   "id": "3f0d599b",
   "metadata": {},
   "source": [
    "## Per admin boundary stats"
   ]
  },
  {
   "cell_type": "code",
   "execution_count": null,
   "id": "daf06e04-8fe5-4643-bd66-ec9f4181cc68",
   "metadata": {},
   "outputs": [],
   "source": [
    "# match coastlines to admin region geometries\n",
    "level = 0\n",
    "gadm_level = gadm_level_0\n",
    "\n",
    "ind_coast, ind_level =  gadm_level.sindex.nearest(coastlines.geometry, max_distance= 1000, return_all=False, return_distance=False)\n",
    "\n",
    "gadm_level[['n_good', 'n_sig99', 'n_neg1', 'n_neg5', 'rate_time_10th', 'rate_time_50th', 'nsm_10th', 'sce_90th']] = [np.nan]*8\n",
    "\n",
    "for idx in gadm_level.index:\n",
    "    #print(gadm_level.loc[idx][f\"NAME_{level}\"])\n",
    "    \n",
    "    good_gdf = coastlines.iloc[ind_coast[ind_level == idx]]\n",
    "    if len(good_gdf)==0:\n",
    "        #print(\"no data over\", gadm_level.loc[idx][f\"NAME_{level}\"])\n",
    "        continue\n",
    "\n",
    "    # get stats\n",
    "    gadm_level.at[idx, 'n_good'] = len(good_gdf)\n",
    "    sig_gdf = good_gdf[(good_gdf.sig_time<0.01)]\n",
    "    gadm_level.at[idx, 'n_sig99'] = len(sig_gdf)\n",
    "    gadm_level.at[idx, 'n_neg1'] = (sig_gdf.rate_time<-1).sum()\n",
    "    gadm_level.at[idx, 'n_neg5'] = (sig_gdf.rate_time<-5).sum()\n",
    "    gadm_level.at[idx, 'rate_time_10th'] = sig_gdf.rate_time.quantile(0.1)\n",
    "    gadm_level.at[idx, 'rate_time_50th'] = sig_gdf.rate_time.quantile(0.5)\n",
    "    gadm_level.at[idx, 'nsm_10th'] = sig_gdf.nsm.quantile(0.1)\n",
    "    gadm_level.at[idx, 'sce_90th'] = sig_gdf.sce.quantile(0.9)\n",
    "    \n",
    "gadm_level['perc_neg1']=gadm_level['n_neg1']*100/gadm_level['n_good']\n",
    "gadm_level['perc_neg5']=gadm_level['n_neg5']*100/gadm_level['n_good']\n",
    "gadm_level['km_neg1']=gadm_level['n_neg1']*30/1000\n",
    "gadm_level['km_neg5']=gadm_level['n_neg5']*30/1000\n",
    "\n",
    "gadm_level = gadm_level[gadm_level.n_good>0]\n",
    "gadm_level.to_file(f\"../data/coastlineschange_{version}_gadm_level{level}.gpkg\")"
   ]
  },
  {
   "cell_type": "code",
   "execution_count": null,
   "id": "abb7212d-696f-4539-9f23-c081107c126e",
   "metadata": {},
   "outputs": [],
   "source": [
    "# match coastlines to admin region geometries\n",
    "level = 1\n",
    "gadm_level = gadm_level_1\n",
    "\n",
    "ind_coast, ind_level =  gadm_level.sindex.nearest(coastlines.geometry, max_distance= 1000, return_all=False, return_distance=False)\n",
    "\n",
    "gadm_level[['n_good', 'n_sig99', 'n_neg1', 'n_neg5', 'rate_time_10th', 'rate_time_50th', 'nsm_10th', 'sce_90th']] = [np.nan]*8\n",
    "\n",
    "for idx in gadm_level.index:\n",
    "    #print(gadm_level.loc[idx][f\"NAME_{level}\"])\n",
    "    \n",
    "    good_gdf = coastlines.iloc[ind_coast[ind_level == idx]]\n",
    "    if len(good_gdf)==0:\n",
    "        #print(\"no data over\", gadm_level.loc[idx][f\"NAME_{level}\"])\n",
    "        continue\n",
    "\n",
    "    # get stats\n",
    "    gadm_level.at[idx, 'n_good'] = len(good_gdf)\n",
    "    sig_gdf = good_gdf[(good_gdf.sig_time<0.01)]\n",
    "    gadm_level.at[idx, 'n_sig99'] = len(sig_gdf)\n",
    "    gadm_level.at[idx, 'n_neg1'] = (sig_gdf.rate_time<-1).sum()\n",
    "    gadm_level.at[idx, 'n_neg5'] = (sig_gdf.rate_time<-5).sum()\n",
    "    gadm_level.at[idx, 'rate_time_10th'] = sig_gdf.rate_time.quantile(0.1)\n",
    "    gadm_level.at[idx, 'rate_time_50th'] = sig_gdf.rate_time.quantile(0.5)\n",
    "    gadm_level.at[idx, 'nsm_10th'] = sig_gdf.nsm.quantile(0.1)\n",
    "    gadm_level.at[idx, 'sce_90th'] = sig_gdf.sce.quantile(0.9)\n",
    "    \n",
    "gadm_level['perc_neg1']=gadm_level['n_neg1']*100/gadm_level['n_good']\n",
    "gadm_level['perc_neg5']=gadm_level['n_neg5']*100/gadm_level['n_good']\n",
    "gadm_level['km_neg1']=gadm_level['n_neg1']*30/1000\n",
    "gadm_level['km_neg5']=gadm_level['n_neg5']*30/1000\n",
    "\n",
    "gadm_level = gadm_level[gadm_level.n_good>0]\n",
    "gadm_level.to_file(f\"../data/coastlineschange_{version}_gadm_level{level}.gpkg\")"
   ]
  }
 ],
 "metadata": {
  "kernelspec": {
   "display_name": "deafrica",
   "language": "python",
   "name": "python3"
  },
  "language_info": {
   "codemirror_mode": {
    "name": "ipython",
    "version": 3
   },
   "file_extension": ".py",
   "mimetype": "text/x-python",
   "name": "python",
   "nbconvert_exporter": "python",
   "pygments_lexer": "ipython3",
   "version": "3.13.2"
  }
 },
 "nbformat": 4,
 "nbformat_minor": 5
}
